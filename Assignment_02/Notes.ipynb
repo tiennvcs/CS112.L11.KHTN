{
  "nbformat": 4,
  "nbformat_minor": 0,
  "metadata": {
    "colab": {
      "name": "Notes.ipynb",
      "provenance": [],
      "collapsed_sections": [],
      "toc_visible": true,
      "authorship_tag": "ABX9TyNYQFxFUTSsVSmhXigRmA4G",
      "include_colab_link": true
    },
    "kernelspec": {
      "name": "python3",
      "display_name": "Python 3"
    }
  },
  "cells": [
    {
      "cell_type": "markdown",
      "metadata": {
        "id": "view-in-github",
        "colab_type": "text"
      },
      "source": [
        "<a href=\"https://colab.research.google.com/github/tiennvuit/CS112.L11.KHTN/blob/master/Assignment_02/Notes.ipynb\" target=\"_parent\"><img src=\"https://colab.research.google.com/assets/colab-badge.svg\" alt=\"Open In Colab\"/></a>"
      ]
    },
    {
      "cell_type": "markdown",
      "metadata": {
        "id": "CUt9dXgtjF6K",
        "colab_type": "text"
      },
      "source": [
        "# <center>Tóm tắt buổi học `17-10-2020`</center>"
      ]
    },
    {
      "cell_type": "markdown",
      "metadata": {
        "id": "Qc98qAYTjW6L",
        "colab_type": "text"
      },
      "source": [
        "## 1. Nội dung buổi học"
      ]
    },
    {
      "cell_type": "markdown",
      "metadata": {
        "id": "p_whJMnxjarV",
        "colab_type": "text"
      },
      "source": [
        "- Kiểm tra bài cũ\n",
        "- Giao bài tập mới\n",
        "- Phân chia chủ đề seminar"
      ]
    },
    {
      "cell_type": "markdown",
      "metadata": {
        "id": "xbIeNXK5kUAO",
        "colab_type": "text"
      },
      "source": [
        ""
      ]
    },
    {
      "cell_type": "code",
      "metadata": {
        "id": "arxRZS00jVbP",
        "colab_type": "code",
        "colab": {}
      },
      "source": [
        ""
      ],
      "execution_count": null,
      "outputs": []
    }
  ]
}