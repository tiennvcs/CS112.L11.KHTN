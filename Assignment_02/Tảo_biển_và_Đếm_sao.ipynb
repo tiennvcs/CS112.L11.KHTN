{
  "nbformat": 4,
  "nbformat_minor": 0,
  "metadata": {
    "colab": {
      "name": "Tảo biển và Đếm sao.ipynb",
      "provenance": [],
      "collapsed_sections": [],
      "authorship_tag": "ABX9TyMp3jkhuOSnFwubWHptydrj",
      "include_colab_link": true
    },
    "kernelspec": {
      "name": "python3",
      "display_name": "Python 3"
    }
  },
  "cells": [
    {
      "cell_type": "markdown",
      "metadata": {
        "id": "view-in-github",
        "colab_type": "text"
      },
      "source": [
        "<a href=\"https://colab.research.google.com/github/tiennvuit/CS112.L11.KHTN/blob/master/Assignment_02/T%E1%BA%A3o_bi%E1%BB%83n_v%C3%A0_%C4%90%E1%BA%BFm_sao.ipynb\" target=\"_parent\"><img src=\"https://colab.research.google.com/assets/colab-badge.svg\" alt=\"Open In Colab\"/></a>"
      ]
    },
    {
      "cell_type": "markdown",
      "metadata": {
        "id": "cG06j-KRCfwi",
        "colab_type": "text"
      },
      "source": [
        "# Tảo biển"
      ]
    },
    {
      "cell_type": "markdown",
      "metadata": {
        "id": "3E3gNtUUCqWb",
        "colab_type": "text"
      },
      "source": [
        "## 1. Abstraction"
      ]
    },
    {
      "cell_type": "markdown",
      "metadata": {
        "id": "78I0Jc2oC1Xr",
        "colab_type": "text"
      },
      "source": [
        "Cho 2 số nguyên dương n và k, hãy tính giá trị biểu thức $n \\times F(2k)$, với F là hàm Finonacy.\n",
        "\n",
        "\n",
        "Định nghĩa hàm Fibonacy:\n",
        "- F(0) = F(1) = 1.\n",
        "- F(k) = F(k-1) + F(k-2)."
      ]
    },
    {
      "cell_type": "code",
      "metadata": {
        "id": "lzxkTdBHCQwx",
        "colab_type": "code",
        "colab": {}
      },
      "source": [
        ""
      ],
      "execution_count": null,
      "outputs": []
    }
  ]
}