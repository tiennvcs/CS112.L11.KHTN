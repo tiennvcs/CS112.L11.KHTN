{
  "nbformat": 4,
  "nbformat_minor": 0,
  "metadata": {
    "colab": {
      "name": "Tảo biển và Đếm sao.ipynb",
      "provenance": [],
      "collapsed_sections": [],
      "toc_visible": true,
      "authorship_tag": "ABX9TyOsBJNBNTXVmZmgPReP+OgB",
      "include_colab_link": true
    },
    "kernelspec": {
      "name": "python3",
      "display_name": "Python 3"
    }
  },
  "cells": [
    {
      "cell_type": "markdown",
      "metadata": {
        "id": "view-in-github",
        "colab_type": "text"
      },
      "source": [
        "<a href=\"https://colab.research.google.com/github/tiennvuit/CS112.L11.KHTN/blob/master/Assignment_02/T%E1%BA%A3o_bi%E1%BB%83n_v%C3%A0_%C4%90%E1%BA%BFm_sao.ipynb\" target=\"_parent\"><img src=\"https://colab.research.google.com/assets/colab-badge.svg\" alt=\"Open In Colab\"/></a>"
      ]
    },
    {
      "cell_type": "markdown",
      "metadata": {
        "id": "cG06j-KRCfwi",
        "colab_type": "text"
      },
      "source": [
        "## Bài 1. Tảo biển\n",
        "-----"
      ]
    },
    {
      "cell_type": "markdown",
      "metadata": {
        "id": "gdqjIBe0adEs",
        "colab_type": "text"
      },
      "source": [
        "## Đề bài\n",
        "----"
      ]
    },
    {
      "cell_type": "markdown",
      "metadata": {
        "id": "Z-cnNLPnahmL",
        "colab_type": "text"
      },
      "source": [
        "Tảo biển sinh sản rất nhanh khi có môi trường thuận lợi với chúng và có những loài còn tiết ra môi trường những chất độc hại.\n",
        "\n",
        "Một loại tảo nâu trong môi trường nước bị ô nhiễm nặng sinh sản theo quy luật sau:\n",
        "\n",
        "- Ngày đầu tiên (ngày 0) có n cá thể ở mức $1$,\n",
        "- Ở mỗi ngày tiếp theo, mỗi cá thể mức $i$ sinh ra i cá thể mức $1$, các cá thể mới sinh sẽ sinh sôi, phát triển từ ngày hôm sau.\n",
        "- Bản thân các cá thể mức $i$ phát triển thành mức $i+1$ và chu kỳ phát triển trong ngày chấm dứt.\n",
        "Hãy xác định sau k ngày trong nước biển có bao nhiêu cá thể.\n",
        "\n",
        "Dữ liệu: Vào từ thiết bị nhập chuẩn gồm một dòng chứa 2 số nguyên n và k ($1 \\le n \\le 1000, 1 \\le k \\le 10^{18}$).\n",
        "\n",
        "Kết quả: Đưa ra thiết bị xuất chuẩn một số nguyên – số lượng cá thể  tảo theo mô đun $10^9+7$."
      ]
    },
    {
      "cell_type": "markdown",
      "metadata": {
        "id": "3E3gNtUUCqWb",
        "colab_type": "text"
      },
      "source": [
        "## 1. Tóm tắt bài toán\n",
        "-----"
      ]
    },
    {
      "cell_type": "markdown",
      "metadata": {
        "id": "F5EuX26ychhN",
        "colab_type": "text"
      },
      "source": [
        "Từ n số ban đầu, hãy tìm số lượng số sau lần lặp thứ k với quy luật như sau:\n",
        "- n số ban đầu ở mức $1$.\n",
        "- Ở lần lặp thứ e, số có cấp $i$ sẽ sinh ra $i$ số cấp $1$."
      ]
    },
    {
      "cell_type": "markdown",
      "metadata": {
        "id": "mYYKoF1Rdr4S",
        "colab_type": "text"
      },
      "source": [
        "Ví dụ:\n",
        "\n",
        "- n = 3\n",
        "- k = 5\n",
        "\n",
        "Kết quả: \n",
        "\n",
        "- 678\n",
        "\n",
        "Giải thích:\n",
        "\n",
        "Ta ghi lại quá trình sinh ra các cá thể từ 1 bằng bảng dưới đây.\n",
        "\n",
        "| Ngày \t| Số lượng cá thể từng cấp \t| Tổng số lượng \t|\n",
        "|-\t|-\t|-\t|\n",
        "| 0 \t| - Cấp 1: 1 \t| 1 \t|\n",
        "| 1 \t| - Cấp 1: 1<br><br>- Cấp 2: 1 \t| 2 \t|\n",
        "| 2 \t| - Cấp 1: 3<br><br>- Cấp 2: 1<br><br>- Cấp 3: 1 \t| 5 \t|\n",
        "| 3 \t| - Cấp 1: 8<br><br>- Cấp 2: 3<br><br>- Cấp 3: 1<br><br>- Cấp 4: 1 \t| 13 \t|\n",
        "| 4 \t| - Cấp 1: 21<br><br>- Cấp 2: 8<br><br>- Cấp 3: 3<br><br>- Cấp 4: 1<br><br>- Cấp 5: 1 \t| 34 \t|\n",
        "| 5 \t| - Cấp 1: 55<br><br>- Cấp 2: 21<br><br>- Cấp 3: 8<br><br>- Cấp 4: 3<br><br>- Cấp 5: 1<br><br>- Cấp 6: 1 \t| 89 \t|\n",
        "\n",
        "Từ bảng trên ta có số lượng cá thể tại ngày thứ 5 có được từ 1 cá thể là 226. Ta tính được với 3 con ban đầu phát sinh được $226 \\times 3 = 678$ cá thể.\n"
      ]
    },
    {
      "cell_type": "markdown",
      "metadata": {
        "id": "j3m-GozkiwTN",
        "colab_type": "text"
      },
      "source": [
        "## 2. Nhận diện khuôn mẫu\n",
        "-----"
      ]
    },
    {
      "cell_type": "markdown",
      "metadata": {
        "id": "HT2FRESljmvx",
        "colab_type": "text"
      },
      "source": [
        "### Dãy số Fibonacy"
      ]
    },
    {
      "cell_type": "markdown",
      "metadata": {
        "id": "OZuEmR1ri2Kr",
        "colab_type": "text"
      },
      "source": [
        "Để giải được bài toán ta phải tính được số lượng cá thể có được tại ngày thứ k do 1 cá thể phát sinh. Thống kê giá trị Tổng số lượng sau mỗi ngày ta có dãy số như sau.\n",
        "\n",
        "\n",
        "`1, 2, 5, 13, 34, 89, ...`"
      ]
    },
    {
      "cell_type": "markdown",
      "metadata": {
        "id": "9mW7CBOpjyX8",
        "colab_type": "text"
      },
      "source": [
        "Các phần tử trong dãy số trên là các phần tử trong dãy số Fibonacy.\n",
        "\n",
        "`1, 1, 2, 3, 5, 8, 13, 21, 34, 55, 89, 144, ...`"
      ]
    },
    {
      "cell_type": "markdown",
      "metadata": {
        "id": "78I0Jc2oC1Xr",
        "colab_type": "text"
      },
      "source": [
        "Khi đó bài toán trở thành: Cho 2 số nguyên dương n và k, hãy tính giá trị biểu thức $n \\times F(2k)$, với F là hàm Fibonacy được định nghĩa dưới đây.\n",
        "\n",
        "\n",
        "Định nghĩa hàm Fibonacy:\n",
        "- $F(0) = F(1) = 1$\n",
        "- $F(k) = F(k-1) + F(k-2)$"
      ]
    },
    {
      "cell_type": "markdown",
      "metadata": {
        "id": "magLVL9DlkDI",
        "colab_type": "text"
      },
      "source": [
        "### 3. Thiết kế thuật toán\n",
        "-----"
      ]
    },
    {
      "cell_type": "markdown",
      "metadata": {
        "id": "7EfucosgnMae",
        "colab_type": "text"
      },
      "source": [
        "### Đầu vào và đầu ra"
      ]
    },
    {
      "cell_type": "markdown",
      "metadata": {
        "id": "A1fe5qlXmiLb",
        "colab_type": "text"
      },
      "source": [
        "- Input: n, k\n",
        "- Output: Giá trị của hàm Fibonacy tại vị trí $2k$ (phần tử đầu tiên trong dãy số có vị trí là 0)."
      ]
    },
    {
      "cell_type": "markdown",
      "metadata": {
        "id": "WWbGJT1UnK2w",
        "colab_type": "text"
      },
      "source": [
        "### Mã giả"
      ]
    },
    {
      "cell_type": "markdown",
      "metadata": {
        "id": "c4PR_QDGnXWN",
        "colab_type": "text"
      },
      "source": [
        "--- Bổ xung sau ---"
      ]
    },
    {
      "cell_type": "markdown",
      "metadata": {
        "id": "g5G_yKNal1QN",
        "colab_type": "text"
      },
      "source": [
        "### 4. Cài đặt thuật toán\n",
        "--------"
      ]
    },
    {
      "cell_type": "code",
      "metadata": {
        "id": "s0lsAt_comkf",
        "colab_type": "code",
        "colab": {}
      },
      "source": [
        "# Định nghĩa hàm Fibonacy\n",
        "def fibonacy(k):\n",
        "    \n",
        "    if k == 0 or k == 1:\n",
        "        return 1\n",
        "\n",
        "    a = 1\n",
        "    b = 1\n",
        "    for i in range(2, k+1):\n",
        "        temp = a + b\n",
        "        a = b\n",
        "        b = temp\n",
        "\n",
        "    return b"
      ],
      "execution_count": 13,
      "outputs": []
    },
    {
      "cell_type": "code",
      "metadata": {
        "id": "ylrf2g1kpHya",
        "colab_type": "code",
        "colab": {
          "base_uri": "https://localhost:8080/",
          "height": 51
        },
        "outputId": "e3fdb1b2-8b44-46ea-df5f-a29675c623ae"
      },
      "source": [
        "# Input\n",
        "n = int(input(\"Số lượng cá thể: \"))\n",
        "k = int(input(\"Số ngày sinh trường: \"))"
      ],
      "execution_count": 4,
      "outputs": [
        {
          "output_type": "stream",
          "text": [
            "Số lượng cá thể: 3\n",
            "Số ngày sinh trường: 2\n"
          ],
          "name": "stdout"
        }
      ]
    },
    {
      "cell_type": "code",
      "metadata": {
        "id": "hjDpdbj8pY_d",
        "colab_type": "code",
        "colab": {
          "base_uri": "https://localhost:8080/",
          "height": 34
        },
        "outputId": "90b99eda-9b08-42a1-b3be-3b7fd8a74480"
      },
      "source": [
        "# Gọi hàm Fibonacy cho 1 cá thể\n",
        "result_for_1_indivs = fibonacy(2*k)\n",
        "print(\"Số lượng cá thể tại ngày thứ {} được phát sinh từ 1 cá thể là: {}\".format(k, result_for_1_indivs))"
      ],
      "execution_count": 16,
      "outputs": [
        {
          "output_type": "stream",
          "text": [
            "Số lượng cá thể tại ngày thứ 2 được phát sinh từ 1 cá thể là: 5\n"
          ],
          "name": "stdout"
        }
      ]
    },
    {
      "cell_type": "code",
      "metadata": {
        "id": "SAUMo0mKp2FG",
        "colab_type": "code",
        "colab": {
          "base_uri": "https://localhost:8080/",
          "height": 34
        },
        "outputId": "252047d0-ec87-4c5f-a09f-899b6f4ed1f8"
      },
      "source": [
        "# Tính kết quả cho n cá thể\n",
        "number_of_individuals = n*result_for_1_indivs\n",
        "print(\"Số lượng cá thể tại ngày thứ {} được phát sinh từ {} cá thể ban đầu là: {}\".format(k, n, number_of_individuals))"
      ],
      "execution_count": 17,
      "outputs": [
        {
          "output_type": "stream",
          "text": [
            "Số lượng cá thể tại ngày thứ 2 được phát sinh từ 3 cá thể ban đầu là: 15\n"
          ],
          "name": "stdout"
        }
      ]
    },
    {
      "cell_type": "markdown",
      "metadata": {
        "id": "i2QLrRaml5PF",
        "colab_type": "text"
      },
      "source": [
        "### 5. Đánh giá thuật toán\n",
        "------"
      ]
    },
    {
      "cell_type": "markdown",
      "metadata": {
        "id": "wmK_XBH1rXox",
        "colab_type": "text"
      },
      "source": [
        "Với cách tiếp cận quy về dãy số Fibonacy, độ phức tạp của thuật toán phụ thuộc vào cách cài đặt hàm Fibonacy.\n",
        "\n",
        "Cách cài đặt ở trên có độ phức tạp thời gian là $O(k)$, độ phức tạp về mặt không gian là $O(1)$.\n"
      ]
    },
    {
      "cell_type": "markdown",
      "metadata": {
        "id": "Pb6B2k8QbM9R",
        "colab_type": "text"
      },
      "source": [
        "[]()"
      ]
    }
  ]
}