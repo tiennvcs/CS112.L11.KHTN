{
  "nbformat": 4,
  "nbformat_minor": 0,
  "metadata": {
    "colab": {
      "name": "computational_thinking.ipynb",
      "provenance": [],
      "collapsed_sections": [],
      "toc_visible": true,
      "authorship_tag": "ABX9TyOToJwHYTXy+TCGGbBxLAy9",
      "include_colab_link": true
    },
    "kernelspec": {
      "name": "python3",
      "display_name": "Python 3"
    }
  },
  "cells": [
    {
      "cell_type": "markdown",
      "metadata": {
        "id": "view-in-github",
        "colab_type": "text"
      },
      "source": [
        "<a href=\"https://colab.research.google.com/github/tiennvuit/CS112.L11.KHTN/blob/master/computational_thinking.ipynb\" target=\"_parent\"><img src=\"https://colab.research.google.com/assets/colab-badge.svg\" alt=\"Open In Colab\"/></a>"
      ]
    },
    {
      "cell_type": "markdown",
      "metadata": {
        "id": "K2-HnfrvoHDR",
        "colab_type": "text"
      },
      "source": [
        "![CT-logo](https://cdn-educators.brainpop.com/wp-content/uploads/2019/10/CT-Posters-Autosaved-1-pdf.jpg)"
      ]
    },
    {
      "cell_type": "markdown",
      "metadata": {
        "id": "EVrRTiI6ogd_",
        "colab_type": "text"
      },
      "source": [
        "***Thành viên***\n",
        ">Nguyễn Phú Quốc\\\n",
        ">Nguyễn Văn Tiến\\\n",
        ">Trần Trung Anh"
      ]
    },
    {
      "cell_type": "markdown",
      "metadata": {
        "id": "HX5TVHxerZcy",
        "colab_type": "text"
      },
      "source": [
        "#**TƯ DUY MÁY TÍNH**\n",
        "Phương pháp phân tích vấn đề và đề xuất cách giải quyết sao cho có thể thực hiện được bằng máy tính.\n"
      ]
    },
    {
      "cell_type": "markdown",
      "metadata": {
        "id": "u0_XHs_y9edm",
        "colab_type": "text"
      },
      "source": [
        "---\n",
        "## 1. Decomposition - Phân rã\n",
        "Chia nhỏ vấn đề cần giải quyết thành các vấn đề nhỏ hơn và tiếp tục cho đến khi gặp các vấn đề đã quen thuộc."
      ]
    },
    {
      "cell_type": "markdown",
      "metadata": {
        "id": "-5nO0YYE_UfV",
        "colab_type": "text"
      },
      "source": [
        "##2. Pattern Recognition - Phát hiện mẫu\n",
        "Tìm ra những điểm tương đồng của vấn đề cần giải quyết với các vấn đề đã giải quyết từ trước."
      ]
    },
    {
      "cell_type": "markdown",
      "metadata": {
        "id": "mv2wCS8U_r1j",
        "colab_type": "text"
      },
      "source": [
        "##3. Abstraction - Đơn giản hoá\n",
        "Tìm ra những đặc điểm quan trọng của vấn đề, lược bỏ những thông tin gây nhiễu, không cần thiết."
      ]
    },
    {
      "cell_type": "markdown",
      "metadata": {
        "id": "m_BX8kcN_6Ol",
        "colab_type": "text"
      },
      "source": [
        "##4. Algorithm Design - Thiết kế giải thuật\n",
        "Thiết lập một bộ quy tắc mà theo đó người khác có thể giải quyết vấn đề tương tự."
      ]
    },
    {
      "cell_type": "markdown",
      "metadata": {
        "id": "l_NAKN_wAVJN",
        "colab_type": "text"
      },
      "source": [
        "#**VÍ DỤ BÀI TOÁN**"
      ]
    },
    {
      "cell_type": "markdown",
      "metadata": {
        "id": "fdZls0HgAxYY",
        "colab_type": "text"
      },
      "source": [
        "![noodles](https://encrypted-tbn0.gstatic.com/images?q=tbn%3AANd9GcRtH9ZetDA4tenV7L-Sd3FMjQJxQehW0pT1FA&usqp=CAU)"
      ]
    },
    {
      "cell_type": "markdown",
      "metadata": {
        "id": "9lA215PEAtY2",
        "colab_type": "text"
      },
      "source": [
        "Một hôm dậy trễ, Quốc quyết định ăn sáng bằng mì gói cho nhanh để còn kịp thời gian đi học. Các thành phần cho bữa sáng gồm có 1 gói mì, 1 quả trứng và nước sôi. Quốc chia công đoạn thành 3 phần: nấu nước sôi, chuẩn bị vắt mì, cho quả trứng vào và đậy nắp đợi mì chín (**Decomposition**). Vì thời gian còn cấp bách nên Quốc không quan tâm đến đây là mì hãng nào hay ở nhà còn hành lá hay không vì dù sao trong gói gia vị cũng có hành khô (**Abstraction**) và cần phải làm sao cho kịp thời gian. Vì trước đây có Quốc từng nấu nước sôi để pha cà phê nên Quốc biết thời gian nước sôi khá lâu nên có thể làm các công đoạn khác trong khi đợi nước sôi (**Pattern Recognition**). Cuối cùng, Quốc hình thành các bước thực hiện là: nấu nước, chuẩn bị mì và trứng, đậy nắp đợi mì chín (**Algorithm Design**)."
      ]
    }
  ]
}