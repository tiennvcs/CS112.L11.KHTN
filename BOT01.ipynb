{
  "nbformat": 4,
  "nbformat_minor": 0,
  "metadata": {
    "colab": {
      "name": "BOT01.ipynb",
      "provenance": [],
      "collapsed_sections": [],
      "authorship_tag": "ABX9TyMQ35YkYyoQFxyPjA2Vzfrb",
      "include_colab_link": true
    },
    "kernelspec": {
      "name": "python3",
      "display_name": "Python 3"
    }
  },
  "cells": [
    {
      "cell_type": "markdown",
      "metadata": {
        "id": "view-in-github",
        "colab_type": "text"
      },
      "source": [
        "<a href=\"https://colab.research.google.com/github/tiennvuit/CS112.L11.KHTN/blob/master/BOT01.ipynb\" target=\"_parent\"><img src=\"https://colab.research.google.com/assets/colab-badge.svg\" alt=\"Open In Colab\"/></a>"
      ]
    },
    {
      "cell_type": "markdown",
      "metadata": {
        "id": "ilVPKA3AH-Zl",
        "colab_type": "text"
      },
      "source": [
        "# BOT 01"
      ]
    },
    {
      "cell_type": "markdown",
      "metadata": {
        "id": "0nA-_KgRIDJe",
        "colab_type": "text"
      },
      "source": [
        "\n",
        "\n",
        "## Abstraction: \n",
        "\n",
        "- Tìm đoạn con có tổng lớn nhất từ một dãy số a gồm n phần tử.\n",
        "\n"
      ]
    },
    {
      "cell_type": "markdown",
      "metadata": {
        "id": "u1vGrDopKU8c",
        "colab_type": "text"
      },
      "source": [
        "## Pattern Recognition"
      ]
    },
    {
      "cell_type": "markdown",
      "metadata": {
        "id": "LgjSC1xUKaRy",
        "colab_type": "text"
      },
      "source": [
        "- Tổng tiền tố, Vét cạn, Huy hoạch động."
      ]
    },
    {
      "cell_type": "markdown",
      "metadata": {
        "id": "Zj_VKzC_Ke0x",
        "colab_type": "text"
      },
      "source": [
        "## Algorithm designed"
      ]
    },
    {
      "cell_type": "markdown",
      "metadata": {
        "id": "SPVVqLSiKhJd",
        "colab_type": "text"
      },
      "source": [
        "Để sau"
      ]
    },
    {
      "cell_type": "markdown",
      "metadata": {
        "id": "M9IBZ787KiMj",
        "colab_type": "text"
      },
      "source": [
        "## Source code"
      ]
    },
    {
      "cell_type": "code",
      "metadata": {
        "id": "JmgfywCmHmFn",
        "colab_type": "code",
        "colab": {}
      },
      "source": [
        "n = int(input())\n",
        "a = list(input().split(\" \"))\n",
        "print(a)\n",
        "for i in range(n):\n",
        "    a[i] = int(a[i])\n",
        "for i in range(1,n):\n",
        "    a[i]+= a[i-1]\n",
        "a = [0] + a\n",
        "idx = 0\n",
        "ressuf= 0\n",
        "respre = 0\n",
        "res = -10000000000000000\n",
        "mintmp = 0\n",
        "for i in range(1,n + 1 ):\n",
        "    if (res < a[i] - mintmp):\n",
        "        res = a[i] - mintmp\n",
        "        ressuf = i\n",
        "        respre = idx + 1\n",
        "    if (a[i] < mintmp):\n",
        "        mintmp = a[i]\n",
        "        idx = i\n",
        "print(respre, ressuf, res)\n",
        "#askjdhkasdhkasd"
      ],
      "execution_count": null,
      "outputs": []
    },
    {
      "cell_type": "markdown",
      "metadata": {
        "id": "Mk12lIHZK-W3",
        "colab_type": "text"
      },
      "source": [
        "FUCK !"
      ]
    }
  ]
}