{
  "nbformat": 4,
  "nbformat_minor": 0,
  "metadata": {
    "colab": {
      "name": "H_index.ipynb",
      "provenance": [],
      "collapsed_sections": [],
      "include_colab_link": true
    },
    "kernelspec": {
      "name": "python3",
      "display_name": "Python 3"
    }
  },
  "cells": [
    {
      "cell_type": "markdown",
      "metadata": {
        "id": "view-in-github",
        "colab_type": "text"
      },
      "source": [
        "<a href=\"https://colab.research.google.com/github/tiennvuit/CS112.L11.KHTN/blob/master/Assignment_03/H_index.ipynb\" target=\"_parent\"><img src=\"https://colab.research.google.com/assets/colab-badge.svg\" alt=\"Open In Colab\"/></a>"
      ]
    },
    {
      "cell_type": "markdown",
      "metadata": {
        "id": "AZNRpJ7ESfia"
      },
      "source": [
        "<h1><center>BÀI TẬP TUẦN 3 (24/09)</center></h1>"
      ]
    },
    {
      "cell_type": "markdown",
      "metadata": {
        "id": "v2WECWfFTYAs"
      },
      "source": [
        "# Thông tin nhóm:\n",
        "\n",
        "1. Trần Trung Anh   - 18520473\n",
        "2. Nguyễn Phú Quốc  - 18520343\n",
        "3. Nguyễn Văn Tiến  - 18521489"
      ]
    },
    {
      "cell_type": "markdown",
      "metadata": {
        "id": "JWBgVI-QfBx2"
      },
      "source": [
        "# 1. H-index"
      ]
    },
    {
      "cell_type": "markdown",
      "metadata": {
        "id": "EEd2g6CmfiWh"
      },
      "source": [
        "## Đề bài\n",
        "---"
      ]
    },
    {
      "cell_type": "markdown",
      "metadata": {
        "id": "CKKXVuQMiWmh"
      },
      "source": [
        "Làm thế nào để đánh giá sự thành công của một nhà khoa học?  Dựa vào số bài báo được công bố hay dựa vào số lần một bài báo được trích dẫn tới ở công trình của những người khác? Cả hai tham số đó đều quan trọng.\n",
        "\n",
        "Một bài báo có điểm số trích dẫn là **c** nếu nó được trích dẫn tới **c** lần trong các công trình của những nhà khoa học khác. Một trong số các cách đánh giá sự thành công của một nhà khoa học là tính chỉ số ảnh hưởng **H_Index** dựa trên sự kết hợp giữa số lượng bài báo và chỉ số trích dẫn của các bài báo đó.\n",
        "\n",
        "Chỉ số **H_Index** của một nhà khoa học bằng **k** lớn nhất nếu người đó có **k** bài báo, mỗi bài có điểm số trích dẫn không nhỏ hơn **k**. Ví dụ, một người có 10 bài báo, mỗi bài báo được trích dẫn không dưới 10 lần thì **H_Index** của người đó ít nhất là bằng 10.\n",
        "\n",
        "Một người có **n** bài báo, bài báo thứ **$i$** có điểm trích dẫn là $ci, i = 1 ÷ n$. Hãy xác định **H_Index** của người đó.\n",
        "\n",
        "***Dữ liệu:*** Vào từ thiết bị nhập chuẩn:\n",
        "\n",
        "- Dòng đầu tiên chứa một số nguyên **n**, $(1 ≤ n ≤ 5×105)$\n",
        "- Dòng thứ hai chứa **n** số nguyên $c1, c2, . . ., cn (0 ≤ ci ≤ 106, i = 1 ÷ n)$\n",
        "\n",
        "***Kết quả:*** Đưa ra thiết bị xuất chuẩn một số nguyên – **H_Index** tìm được."
      ]
    },
    {
      "cell_type": "markdown",
      "metadata": {
        "id": "RkuEGGrFjnp3"
      },
      "source": [
        "## Ví dụ\n",
        "| INPUT | OUTPUT |\n",
        "| - | - |\n",
        "| 5 | 4 |\n",
        "| 8 5 3 4 10 | |"
      ]
    },
    {
      "cell_type": "markdown",
      "metadata": {
        "id": "BpUBnegalimp"
      },
      "source": [
        "##Tóm tắt bài toán - Abstraction\n",
        "---"
      ]
    },
    {
      "cell_type": "markdown",
      "metadata": {
        "id": "aOC0y1U8l0EH"
      },
      "source": [
        "Tìm số $k$ lớn nhất sao cho $k$ nhỏ hơn hoặc bằng đúng $k$ con số trong $n$ số nguyên.\n",
        "\n",
        "*Ví dụ* \\\n",
        "Cho 5 số nguyên $[8, 5, 3, 4, 10]$, ta có:\n",
        "\n",
        "| Chỉ số | Mô tả | Chứng minh | Thoả mãn điều kiện |\n",
        "| - | - | - | - |\n",
        "| 1 | 1 nhỏ hơn hoặc bằng 1 con số | $1 <= 8$ | Có |\n",
        "<br>\n",
        "| 2 | 2 nhỏ hơn hoặc bằng 2 con số | $2 <= 8$<br>$2 <= 5$ | Có |\n",
        "<br>\n",
        "| 3 | 3 nhỏ hơn hoặc bằng 3 con số | $3 <= 8$<br>$3 <= 5$<br>$3 <= 3$| Có |\n",
        "<br>\n",
        "| 4 | 4 nhỏ hơn hoặc bằng 4 con số | $4 <= 8$<br>$4 <= 5$<br>$4 <= 4$<br>$4 <= 10$ | Có | \n",
        "<br>\n",
        "| 5 | 5 nhỏ hơn hoặc bằng 3 con số | $5 <= 8$<br>$5 <= 5$<br>$5 <= 10$ | Không |\n",
        "<br>\n",
        "| **Kết luận** | k = 4\n"
      ]
    },
    {
      "cell_type": "markdown",
      "metadata": {
        "id": "pl_P7Bjq0f-B"
      },
      "source": [
        "##Nhận diện mẫu - Pattern Recognition\n",
        "---"
      ]
    },
    {
      "cell_type": "markdown",
      "metadata": {
        "id": "iT4T9I-p08OB"
      },
      "source": [
        "###a. Duyệt mảng và đếm phần tử:"
      ]
    },
    {
      "cell_type": "markdown",
      "metadata": {
        "id": "Gp9txDNf3Ssi"
      },
      "source": [
        "Về cơ bản, bài toán này có thể giải quyết bằng cách duyệt mỗi giá trị **k** (số nguyên từ 1 đến **n**) qua mảng số và đếm số lượng **c** giá trị lớn hơn hoặc bằng **k**, nếu **c** lớn hơn giá trị **c** trước và **c** bằng **k** thì cập nhật lại giá trị **c**.\n",
        "\n",
        "\n"
      ]
    },
    {
      "cell_type": "markdown",
      "metadata": {
        "id": "nly0Mg7G_0hE"
      },
      "source": [
        "###b. Sắp xếp và duyệt ngược:"
      ]
    },
    {
      "cell_type": "markdown",
      "metadata": {
        "id": "YI7_uc6O_5M1"
      },
      "source": [
        "Cách tiếp cận này nhằm giảm số lần so sánh và số lần duyệt mảng. Ta sắp xếp mảng số theo chiều tăng dần hoặc giảm dần. Sau đó, duyệt mảng theo chiều ngược lại, tăng biến đếm lên 1 khi qua mỗi giá trị cho đến khi gặp giá trị nhỏ hơn biến đếm."
      ]
    },
    {
      "cell_type": "markdown",
      "metadata": {
        "id": "0fWtJ9FABrz9"
      },
      "source": [
        "##Thiết kế thuật toán - Algorithm Design"
      ]
    },
    {
      "cell_type": "markdown",
      "metadata": {
        "id": "707-q1REB0-U"
      },
      "source": [
        "```\n",
        "FUNCTION solve(n: INT, c: ARRAY):\n",
        "  c_sorted <- sorting_algorithm(c)\n",
        "  count <- 0\n",
        "  loop i from n to 1 do:\n",
        "    if c_sorted[i] < count do:\n",
        "      break loop\n",
        "    end if\n",
        "    count <- count + 1\n",
        "  end loop\n",
        "  return count - 1\n"
      ]
    },
    {
      "cell_type": "markdown",
      "metadata": {
        "id": "92k0ExcFFmFe"
      },
      "source": [
        "##Cài đặt thuật toán"
      ]
    },
    {
      "cell_type": "code",
      "metadata": {
        "id": "TQ_xhVpgGNc7",
        "outputId": "1a8d50df-7c9e-45c0-a29d-70b0f2e934a9",
        "colab": {
          "base_uri": "https://localhost:8080/",
          "height": 50
        }
      },
      "source": [
        "#Xử lý input\n",
        "n = int(input())\n",
        "cites = map(int, input().split())"
      ],
      "execution_count": 1,
      "outputs": [
        {
          "output_type": "stream",
          "text": [
            "5\n",
            "3 4 5 8 10\n"
          ],
          "name": "stdout"
        }
      ]
    },
    {
      "cell_type": "code",
      "metadata": {
        "id": "RHdT4N_-Gvdi"
      },
      "source": [
        "#Sắp xếp mảng\n",
        "cites = sorted(cites) "
      ],
      "execution_count": 2,
      "outputs": []
    },
    {
      "cell_type": "code",
      "metadata": {
        "id": "pOoBoLmIG8Sp"
      },
      "source": [
        "#Đếm phần tử\n",
        "count = 0\n",
        "for i in range (-1, -n-1, -1):\n",
        "  if cites[i] < count:\n",
        "    break\n",
        "  count += 1"
      ],
      "execution_count": 3,
      "outputs": []
    },
    {
      "cell_type": "code",
      "metadata": {
        "id": "_7Pa29eHG_eZ",
        "outputId": "54044bb9-40db-42d4-8aca-44d088d77e85",
        "colab": {
          "base_uri": "https://localhost:8080/",
          "height": 34
        }
      },
      "source": [
        "print(count)"
      ],
      "execution_count": 4,
      "outputs": [
        {
          "output_type": "stream",
          "text": [
            "4\n"
          ],
          "name": "stdout"
        }
      ]
    },
    {
      "cell_type": "markdown",
      "metadata": {
        "id": "OjUUYRkmHZtl"
      },
      "source": [
        "##Đánh giá thuật toán\n",
        "Độ phức tạp của thuật toán sắp xếp sorted trong Python là $O(Nlog_{2}(N))$.\\\n",
        "Độ phức tạp của giai đoạn đếm phần tử là $O(N)$."
      ]
    },
    {
      "cell_type": "markdown",
      "metadata": {
        "id": "vvnmQJfuIbhc"
      },
      "source": [
        "##Submit Wecode"
      ]
    },
    {
      "cell_type": "markdown",
      "metadata": {
        "id": "gPMyDAvBIe3h"
      },
      "source": [
        "![hindex.PNG](data:image/png;base64,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)"
      ]
    }
  ]
}