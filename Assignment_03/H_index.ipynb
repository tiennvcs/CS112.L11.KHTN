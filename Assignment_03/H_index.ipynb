{
  "nbformat": 4,
  "nbformat_minor": 0,
  "metadata": {
    "colab": {
      "name": "H_index.ipynb",
      "provenance": [],
      "collapsed_sections": [],
      "include_colab_link": true
    },
    "kernelspec": {
      "name": "python3",
      "display_name": "Python 3"
    }
  },
  "cells": [
    {
      "cell_type": "markdown",
      "metadata": {
        "id": "view-in-github",
        "colab_type": "text"
      },
      "source": [
        "<a href=\"https://colab.research.google.com/github/tiennvuit/CS112.L11.KHTN/blob/master/Assignment_03/H_index.ipynb\" target=\"_parent\"><img src=\"https://colab.research.google.com/assets/colab-badge.svg\" alt=\"Open In Colab\"/></a>"
      ]
    },
    {
      "cell_type": "markdown",
      "metadata": {
        "id": "AZNRpJ7ESfia"
      },
      "source": [
        "<h1><center>BÀI TẬP TUẦN 3 (24/09)</center></h1>"
      ]
    },
    {
      "cell_type": "markdown",
      "metadata": {
        "id": "v2WECWfFTYAs"
      },
      "source": [
        "# Thông tin nhóm:\n",
        "\n",
        "1. Trần Trung Anh   - 18520473\n",
        "2. Nguyễn Phú Quốc  - 18520343\n",
        "3. Nguyễn Văn Tiến  - 18521489"
      ]
    },
    {
      "cell_type": "markdown",
      "metadata": {
        "id": "JWBgVI-QfBx2"
      },
      "source": [
        "# 1. H-index"
      ]
    },
    {
      "cell_type": "markdown",
      "metadata": {
        "id": "EEd2g6CmfiWh"
      },
      "source": [
        "## Đề bài\n",
        "---"
      ]
    },
    {
      "cell_type": "markdown",
      "metadata": {
        "id": "CKKXVuQMiWmh"
      },
      "source": [
        "Làm thế nào để đánh giá sự thành công của một nhà khoa học?  Dựa vào số bài báo được công bố hay dựa vào số lần một bài báo được trích dẫn tới ở công trình của những người khác? Cả hai tham số đó đều quan trọng.\n",
        "\n",
        "Một bài báo có điểm số trích dẫn là **c** nếu nó được trích dẫn tới **c** lần trong các công trình của những nhà khoa học khác. Một trong số các cách đánh giá sự thành công của một nhà khoa học là tính chỉ số ảnh hưởng **H_Index** dựa trên sự kết hợp giữa số lượng bài báo và chỉ số trích dẫn của các bài báo đó.\n",
        "\n",
        "Chỉ số **H_Index** của một nhà khoa học bằng **k** lớn nhất nếu người đó có **k** bài báo, mỗi bài có điểm số trích dẫn không nhỏ hơn **k**. Ví dụ, một người có 10 bài báo, mỗi bài báo được trích dẫn không dưới 10 lần thì **H_Index** của người đó ít nhất là bằng 10.\n",
        "\n",
        "Một người có **n** bài báo, bài báo thứ **$i$** có điểm trích dẫn là $ci, i = 1 ÷ n$. Hãy xác định **H_Index** của người đó.\n",
        "\n",
        "***Dữ liệu:*** Vào từ thiết bị nhập chuẩn:\n",
        "\n",
        "- Dòng đầu tiên chứa một số nguyên **n**, $(1 ≤ n ≤ 5×105)$\n",
        "- Dòng thứ hai chứa **n** số nguyên $c1, c2, . . ., cn (0 ≤ ci ≤ 106, i = 1 ÷ n)$\n",
        "\n",
        "***Kết quả:*** Đưa ra thiết bị xuất chuẩn một số nguyên – **H_Index** tìm được."
      ]
    },
    {
      "cell_type": "markdown",
      "metadata": {
        "id": "RkuEGGrFjnp3"
      },
      "source": [
        "## Ví dụ\n",
        "| INPUT | OUTPUT |\n",
        "| - | - |\n",
        "| 5 | 4 |\n",
        "| 8 5 3 4 10 | |"
      ]
    },
    {
      "cell_type": "markdown",
      "metadata": {
        "id": "BpUBnegalimp"
      },
      "source": [
        "##Tóm tắt bài toán - Abstraction\n",
        "---"
      ]
    },
    {
      "cell_type": "markdown",
      "metadata": {
        "id": "aOC0y1U8l0EH"
      },
      "source": [
        "Tìm số $k$ lớn nhất sao cho $k$ nhỏ hơn hoặc bằng đúng $k$ con số trong $n$ số nguyên.\n",
        "\n",
        "*Ví dụ* \\\n",
        "Cho 5 số nguyên $[8, 5, 3, 4, 10]$, ta có:\n",
        "\n",
        "| Chỉ số | Mô tả | Chứng minh | Thoả mãn điều kiện |\n",
        "| - | - | - | - |\n",
        "| 1 | 1 nhỏ hơn hoặc bằng 1 con số | $1 <= 8$ | Có |\n",
        "<br>\n",
        "| 2 | 2 nhỏ hơn hoặc bằng 2 con số | $2 <= 8$<br>$2 <= 5$ | Có |\n",
        "<br>\n",
        "| 3 | 3 nhỏ hơn hoặc bằng 3 con số | $3 <= 8$<br>$3 <= 5$<br>$3 <= 3$| Có |\n",
        "<br>\n",
        "| 4 | 4 nhỏ hơn hoặc bằng 4 con số | $4 <= 8$<br>$4 <= 5$<br>$4 <= 4$<br>$4 <= 10$ | Có | \n",
        "<br>\n",
        "| 5 | 5 nhỏ hơn hoặc bằng 3 con số | $5 <= 8$<br>$5 <= 5$<br>$5 <= 10$ | Không |\n",
        "<br>\n",
        "| **Kết luận** | k = 4\n"
      ]
    },
    {
      "cell_type": "markdown",
      "metadata": {
        "id": "pl_P7Bjq0f-B"
      },
      "source": [
        "##Nhận diện mẫu - Pattern Recognition\n",
        "---"
      ]
    },
    {
      "cell_type": "markdown",
      "metadata": {
        "id": "iT4T9I-p08OB"
      },
      "source": [
        "###a. Duyệt mảng và đếm phần tử:"
      ]
    },
    {
      "cell_type": "markdown",
      "metadata": {
        "id": "Gp9txDNf3Ssi"
      },
      "source": [
        "Về cơ bản, bài toán này có thể giải quyết bằng cách duyệt mỗi giá trị k qua mảng số và đếm số lượng giá trị lớn hơn hoặc bằng k, nếu k lớn hơn giá trị k trước và k bằng số lượng giá trị lớn hơn hoặc bằng k thì cập nhật lại giá trị k.\n",
        "\n",
        "**Input:** \n",
        " - $n \\in \\mathbb{Z}$\n",
        " - $c_{i} \\in \\mathbb{Z}, i \\in (1, n)$\n",
        "\n",
        "**Output:**\n",
        " - $H-Index$\n",
        "\n"
      ]
    }
  ]
}