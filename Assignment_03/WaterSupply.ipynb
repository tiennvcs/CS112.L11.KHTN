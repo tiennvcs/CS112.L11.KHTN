{
  "nbformat": 4,
  "nbformat_minor": 0,
  "metadata": {
    "colab": {
      "name": "WaterSupply.ipynb",
      "provenance": [],
      "toc_visible": true,
      "include_colab_link": true
    },
    "kernelspec": {
      "name": "python3",
      "display_name": "Python 3"
    }
  },
  "cells": [
    {
      "cell_type": "markdown",
      "metadata": {
        "id": "view-in-github",
        "colab_type": "text"
      },
      "source": [
        "<a href=\"https://colab.research.google.com/github/tiennvuit/CS112.L11.KHTN/blob/master/Assignment_03/WaterSupply.ipynb\" target=\"_parent\"><img src=\"https://colab.research.google.com/assets/colab-badge.svg\" alt=\"Open In Colab\"/></a>"
      ]
    },
    {
      "cell_type": "markdown",
      "metadata": {
        "id": "pVEkRUTwymHM"
      },
      "source": [
        "<h1><center>BÀI TẬP TUẦN 3 (24/09)</center></h1>"
      ]
    },
    {
      "cell_type": "markdown",
      "metadata": {
        "id": "gBi4UPRDy2Mq"
      },
      "source": [
        "# Thông tin nhóm:\n",
        "\n",
        "1. Trần Trung Anh   - 18520473\n",
        "2. Nguyễn Phú Quốc  - 18520343\n",
        "3. Nguyễn Văn Tiến  - 18521489"
      ]
    },
    {
      "cell_type": "markdown",
      "metadata": {
        "id": "NmDDbPbJy4Vs"
      },
      "source": [
        "## 2. Water Supply"
      ]
    },
    {
      "cell_type": "markdown",
      "metadata": {
        "id": "PlxyKieby4Sx"
      },
      "source": [
        "### Đề bài"
      ]
    },
    {
      "cell_type": "markdown",
      "metadata": {
        "id": "Eeblzbz0zBX3"
      },
      "source": [
        "<div class=\"problem_description\" id=\"problem_description\">\n",
        "\t\t\t<p style=\"text-align:justify\"><strong>KHÔI PHỤC HỆ THỐNG CẤP NƯỚC (1s, 100MB)</strong></p>\n",
        "\n",
        "<p style=\"text-align:justify\"><span style=\"background-color:transparent; color:#000000\">Vùng đất diệu kỳ Wonderland có </span><strong><em>N</em></strong><span style=\"background-color:transparent; color:#000000\"> hộ gia đình đã được trang bị một hệ thống cung cấp nước sạch đến từng ngôi nhà. Mỗi đường ống nối trực tiếp 2 nhà, nước chảy trong đường ống theo 2 chiều, có thể truyền qua nhiều trung gian trước khi đến một nhà nào đó. Trong hồ sơ lưu trữ, các ngôi nhà được ghi số từ 1 đến </span><strong><em>N</em></strong><span style=\"background-color:transparent; color:#000000\">.</span></p>\n",
        "\n",
        "<p style=\"text-align:justify\"><span style=\"background-color:transparent; color:#000000\">Một trận động đất đã gây nên sự cố nghiêm trọng làm cho cả vùng bị chia cắt thành nhiều khu vực rời nhau, không còn tiếp cận được với nguồn nước. Để khắc phục, những người có trách nhiệm đã khảo sát hiện trạng và ghi nhận được toàn vùng đất đang thảm họa vẫn còn </span><strong><em>M</em></strong><span style=\"background-color:transparent; color:#000000\"> đường ống đang hoạt động tốt. </span></p>\n",
        "\n",
        "<p style=\"text-align:justify\"><span style=\"background-color:transparent; color:#000000\">Nhiệm vụ đặt ra là phải khôi phục hệ thống cấp nước bằng cách lắp thêm một số đường ống. Tuy nhiên, do hạn chế về thời gian và kinh phí nên đòi hỏi </span><em>phương án khôi phục phải được thực hiện với ít đường ống được lắp thêm nhất</em><span style=\"background-color:transparent; color:#000000\">. Câu hỏi đặt ra: cần lắp thêm ít nhất bao nhiêu đường ống để hệ thống cấp nước có thể đưa nước đến từng ngôi nhà. Câu hỏi phụ: có bao nhiêu phương án khác nhau đáp ứng yêu cầu; số phương án có thể khá lớn nên chỉ cần đưa ra số dư khi chia cho 10<sup>9</sup>+7.</span></p>\n",
        "\n",
        "<p style=\"text-align:justify\"><em>Dữ liệu:</em><span style=\"background-color:transparent; color:#000000\"> Vào từ thiết bị nhập chuẩn:</span></p>\n",
        "\n",
        "<ul>\n",
        "\t<li>\n",
        "\t<p style=\"text-align:justify\"><span style=\"background-color:transparent; color:#000000\">Dòng đầu tiên chứa 2 số nguyên <em><strong>N</strong></em>, <em><strong>M</strong></em> (1 ≤ </span><em><strong>N</strong>, <strong>M</strong></em><em> </em><span style=\"background-color:transparent; color:#000000\">&nbsp;≤ 10</span><sup><span style=\"background-color:transparent; color:#000000\">5</span></sup><span style=\"background-color:transparent; color:#000000\">)</span></p>\n",
        "\t</li>\n",
        "\t<li>\n",
        "\t<p style=\"text-align:justify\"><span style=\"background-color:transparent; color:#000000\">Mỗi dòng trong </span><strong><em>M</em></strong><span style=\"background-color:transparent; color:#000000\"> dòng tiếp theo chứa 2 số nguyên </span><strong><em>a</em></strong><span style=\"background-color:transparent; color:#000000\">, </span><strong><em>b</em></strong><span style=\"background-color:transparent; color:#000000\"> (1 ≤ </span><em><strong>a</strong>,</em><span style=\"background-color:transparent; color:#000000\"> &nbsp;</span><strong><em>b</em></strong><span style=\"background-color:transparent; color:#000000\"> ≤ </span><strong><em>N</em></strong><span style=\"background-color:transparent; color:#000000\">). cho biết vẫn còn đường ống nối nhà </span><strong><em>a</em></strong><span style=\"background-color:transparent; color:#000000\"> với nhà </span><strong><em>b</em></strong></p>\n",
        "\t</li>\n",
        "</ul>\n",
        "\n",
        "<p style=\"text-align:justify\"><em>Kết quả:</em><span style=\"background-color:transparent; color:#000000\"> Đưa ra thiết bị xuất chuẩn số đường ống cần được lắp thêm và số phương án đáp ứng yêu cầu (theo mô đun 10</span><sup><span style=\"background-color:transparent; color:#000000\">9</span></sup><span style=\"background-color:transparent; color:#000000\">+7) mỗi số trên một dòng.</span></p>\n",
        "\n",
        "<p style=\"text-align:justify\"><em>Dữ liệu mẫu:</em></p>\n",
        "\n",
        "<p>&nbsp;</p>\n",
        "\n",
        "![image.png](data:image/png;base64,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)"
      ]
    },
    {
      "cell_type": "markdown",
      "metadata": {
        "id": "_qpKkkzk0KNH"
      },
      "source": [
        "## Tóm tắt bài toán - Abstraction"
      ]
    },
    {
      "cell_type": "markdown",
      "metadata": {
        "id": "qob5uHXW0YFI"
      },
      "source": [
        "Tìm số cạnh ít nhất để các cạnh đó tạo thành 1 đồ thị mà chỉ tồn tại ..."
      ]
    },
    {
      "cell_type": "markdown",
      "metadata": {
        "id": "r0dKoHKz1bSu"
      },
      "source": [
        "## Nhận diện khuôn mẫu - Patter Recoginition"
      ]
    },
    {
      "cell_type": "markdown",
      "metadata": {
        "id": "z1ITLhzI1oqu"
      },
      "source": [
        "- Tìm số thành phần liên thông trong đồ thị vô hướng (Finding connected components of an undirected graph)\n",
        "- Phương pháp đếm (Counting Methods)\n",
        "- Tính toán số dư (Modular Arithmetic)"
      ]
    },
    {
      "cell_type": "markdown",
      "metadata": {
        "id": "Wu3s628M25hf"
      },
      "source": [
        "## Thiết kế thuật toán - Design algorithm"
      ]
    },
    {
      "cell_type": "markdown",
      "metadata": {
        "id": "IRX9WDk82-PT"
      },
      "source": [
        "### Đầu vào đầu ra"
      ]
    },
    {
      "cell_type": "markdown",
      "metadata": {
        "id": "HIFs29o33vkN"
      },
      "source": [
        "Đầu vào:\n",
        "+ Số nguyên dương $n, m (1 <= n, m <= 10^5)$ (với $n$ là số lượng đỉnh, $m$ là số lượng cạnh)\n",
        "+ $m$ dòng tiếp theo, mỗi dòng chứa 2 số $u, v$ thể hiện đỉnh $u$ và $v$ liên kết với nhau.\n",
        "\n",
        "Đầu ra:\n",
        "+ Số lượng cạnh ít nhất được thêm vào đồ thị để tất cả các đỉnh liên thông với nhau.\n",
        "+ Số phương án đáp ứng yêu cầu (modulo $10^9 + 7$)"
      ]
    },
    {
      "cell_type": "markdown",
      "metadata": {
        "id": "jtcDQLCw4mqU"
      },
      "source": [
        "### Mã giả"
      ]
    },
    {
      "cell_type": "markdown",
      "metadata": {
        "id": "VXcKEfb44oR9"
      },
      "source": [
        ""
      ]
    },
    {
      "cell_type": "markdown",
      "metadata": {
        "id": "VnYiH3yR4oyT"
      },
      "source": [
        "## Cài đặt thuật toán"
      ]
    },
    {
      "cell_type": "markdown",
      "metadata": {
        "id": "h7RXj8Od40kg"
      },
      "source": [
        "Hàm tìm miền liên thông bằng phương pháp DFS (Depth First Search)"
      ]
    },
    {
      "cell_type": "code",
      "metadata": {
        "id": "QhdpreS_4yTD"
      },
      "source": [
        "def dfs(u):\n",
        "    mark[u] = False\n",
        "    number[len(number)-1]+= 1\n",
        "    for v in graph[u]:\n",
        "        if (mark[v] == True):\n",
        "            dfs(v)"
      ],
      "execution_count": null,
      "outputs": []
    },
    {
      "cell_type": "markdown",
      "metadata": {
        "id": "XDul-yGa5AUq"
      },
      "source": [
        "Input"
      ]
    },
    {
      "cell_type": "code",
      "metadata": {
        "id": "1Ucep2ep48i0",
        "outputId": "f125a2a2-ebae-49dd-d90c-f755d216e604",
        "colab": {
          "base_uri": "https://localhost:8080/",
          "height": 51
        }
      },
      "source": [
        "(n , m) = map(int,(input().split()))\n",
        "graph = [[] for i in range(n+1)]\n",
        "for i in range(m):\n",
        "    (u ,v ) = map(int, (input().split()))\n",
        "    graph[u].append(v)\n",
        "    graph[v].append(u)"
      ],
      "execution_count": null,
      "outputs": [
        {
          "output_type": "stream",
          "text": [
            "6 1\n",
            "1 2\n"
          ],
          "name": "stdout"
        }
      ]
    },
    {
      "cell_type": "code",
      "metadata": {
        "id": "xIdVAlO-9pvI"
      },
      "source": [
        "import sys\n",
        "modulo = 10**9 + 7\n",
        "mark = [True] * (n+1)\n",
        "number = []\n",
        "\n",
        "sys.setrecursionlimit(10**6)\n",
        "for i in range(1, n+1):\n",
        "    if (mark[i] == True):\n",
        "        number.append(0)\n",
        "        dfs(i)\n"
      ],
      "execution_count": null,
      "outputs": []
    },
    {
      "cell_type": "markdown",
      "metadata": {
        "id": "ysWQByK55S4k"
      },
      "source": [
        "Output"
      ]
    },
    {
      "cell_type": "code",
      "metadata": {
        "id": "1BEarX365ISD",
        "outputId": "aaa71ed5-b932-4e5c-f221-f7673527b9b3",
        "colab": {
          "base_uri": "https://localhost:8080/",
          "height": 51
        }
      },
      "source": [
        "idx = len(number)\n",
        "print(idx - 1)\n",
        "ans = 1\n",
        "for num in number:\n",
        "    ans = ((ans % modulo) * (num % modulo)) % modulo\n",
        "for i in range(idx-2):\n",
        "    ans = ((ans % modulo) * (n % modulo)) % modulo\n",
        "print(ans % modulo)"
      ],
      "execution_count": null,
      "outputs": [
        {
          "output_type": "stream",
          "text": [
            "4\n",
            "432\n"
          ],
          "name": "stdout"
        }
      ]
    },
    {
      "cell_type": "markdown",
      "metadata": {
        "id": "Dz4YZab05vGf"
      },
      "source": [
        "## Đánh giá thuật toán"
      ]
    },
    {
      "cell_type": "markdown",
      "metadata": {
        "id": "KWqEaUSK5zAo"
      },
      "source": [
        "Tìm miền liên thông bằng phương pháp DFS có độ phức tạp là $O(n + m)$.\n",
        "\n",
        "Vậy độ phức tạp thuật toán là $O(n+m)$."
      ]
    },
    {
      "cell_type": "markdown",
      "metadata": {
        "id": "HtMOYRbs6JBM"
      },
      "source": [
        "## Submit Wecode"
      ]
    },
    {
      "cell_type": "markdown",
      "metadata": {
        "id": "rYvdSbA1ub6H"
      },
      "source": [
        "![image.png](data:image/png;base64,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)"
      ]
    },
    {
      "cell_type": "markdown",
      "metadata": {
        "id": "JloN4rRHugtu"
      },
      "source": [
        "<i><center>-------------- Hết --------------</center></i>"
      ]
    },
    {
      "cell_type": "markdown",
      "metadata": {
        "id": "wbufdFeLugrQ"
      },
      "source": [
        ""
      ]
    },
    {
      "cell_type": "code",
      "metadata": {
        "id": "yCwhXQcj6KuU"
      },
      "source": [
        ""
      ],
      "execution_count": null,
      "outputs": []
    }
  ]
}