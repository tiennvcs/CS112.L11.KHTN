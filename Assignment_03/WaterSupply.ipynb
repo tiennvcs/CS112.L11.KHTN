{
  "nbformat": 4,
  "nbformat_minor": 0,
  "metadata": {
    "colab": {
      "name": "WaterSupply.ipynb",
      "provenance": [],
      "include_colab_link": true
    },
    "kernelspec": {
      "name": "python3",
      "display_name": "Python 3"
    }
  },
  "cells": [
    {
      "cell_type": "markdown",
      "metadata": {
        "id": "view-in-github",
        "colab_type": "text"
      },
      "source": [
        "<a href=\"https://colab.research.google.com/github/tiennvuit/CS112.L11.KHTN/blob/master/Assignment_03/WaterSupply.ipynb\" target=\"_parent\"><img src=\"https://colab.research.google.com/assets/colab-badge.svg\" alt=\"Open In Colab\"/></a>"
      ]
    },
    {
      "cell_type": "markdown",
      "metadata": {
        "id": "pVEkRUTwymHM"
      },
      "source": [
        "<h1><center>BÀI TẬP TUẦN 3 (24/09)</center></h1>"
      ]
    },
    {
      "cell_type": "markdown",
      "metadata": {
        "id": "gBi4UPRDy2Mq"
      },
      "source": [
        "# Thông tin nhóm:\n",
        "\n",
        "1. Trần Trung Anh   - 18520473\n",
        "2. Nguyễn Phú Quốc  - 18520343\n",
        "3. Nguyễn Văn Tiến  - 18521489"
      ]
    },
    {
      "cell_type": "markdown",
      "metadata": {
        "id": "NmDDbPbJy4Vs"
      },
      "source": [
        "## 2. Water Supply"
      ]
    },
    {
      "cell_type": "markdown",
      "metadata": {
        "id": "PlxyKieby4Sx"
      },
      "source": [
        "### Đề bài"
      ]
    },
    {
      "cell_type": "markdown",
      "metadata": {
        "id": "Eeblzbz0zBX3"
      },
      "source": [
        "<div class=\"problem_description\" id=\"problem_description\">\n",
        "\t\t\t<p style=\"text-align:justify\"><strong>KHÔI PHỤC HỆ THỐNG CẤP NƯỚC (1s, 100MB)</strong></p>\n",
        "\n",
        "<p style=\"text-align:justify\"><span style=\"background-color:transparent; color:#000000\">Vùng đất diệu kỳ Wonderland có </span><strong><em>N</em></strong><span style=\"background-color:transparent; color:#000000\"> hộ gia đình đã được trang bị một hệ thống cung cấp nước sạch đến từng ngôi nhà. Mỗi đường ống nối trực tiếp 2 nhà, nước chảy trong đường ống theo 2 chiều, có thể truyền qua nhiều trung gian trước khi đến một nhà nào đó. Trong hồ sơ lưu trữ, các ngôi nhà được ghi số từ 1 đến </span><strong><em>N</em></strong><span style=\"background-color:transparent; color:#000000\">.</span></p>\n",
        "\n",
        "<p style=\"text-align:justify\"><span style=\"background-color:transparent; color:#000000\">Một trận động đất đã gây nên sự cố nghiêm trọng làm cho cả vùng bị chia cắt thành nhiều khu vực rời nhau, không còn tiếp cận được với nguồn nước. Để khắc phục, những người có trách nhiệm đã khảo sát hiện trạng và ghi nhận được toàn vùng đất đang thảm họa vẫn còn </span><strong><em>M</em></strong><span style=\"background-color:transparent; color:#000000\"> đường ống đang hoạt động tốt. </span></p>\n",
        "\n",
        "<p style=\"text-align:justify\"><span style=\"background-color:transparent; color:#000000\">Nhiệm vụ đặt ra là phải khôi phục hệ thống cấp nước bằng cách lắp thêm một số đường ống. Tuy nhiên, do hạn chế về thời gian và kinh phí nên đòi hỏi </span><em>phương án khôi phục phải được thực hiện với ít đường ống được lắp thêm nhất</em><span style=\"background-color:transparent; color:#000000\">. Câu hỏi đặt ra: cần lắp thêm ít nhất bao nhiêu đường ống để hệ thống cấp nước có thể đưa nước đến từng ngôi nhà. Câu hỏi phụ: có bao nhiêu phương án khác nhau đáp ứng yêu cầu; số phương án có thể khá lớn nên chỉ cần đưa ra số dư khi chia cho 10<sup>9</sup>+7.</span></p>\n",
        "\n",
        "<p style=\"text-align:justify\"><em>Dữ liệu:</em><span style=\"background-color:transparent; color:#000000\"> Vào từ thiết bị nhập chuẩn:</span></p>\n",
        "\n",
        "<ul>\n",
        "\t<li>\n",
        "\t<p style=\"text-align:justify\"><span style=\"background-color:transparent; color:#000000\">Dòng đầu tiên chứa 2 số nguyên <em><strong>N</strong></em>, <em><strong>M</strong></em> (1 ≤ </span><em><strong>N</strong>, <strong>M</strong></em><em> </em><span style=\"background-color:transparent; color:#000000\">&nbsp;≤ 10</span><sup><span style=\"background-color:transparent; color:#000000\">5</span></sup><span style=\"background-color:transparent; color:#000000\">)</span></p>\n",
        "\t</li>\n",
        "\t<li>\n",
        "\t<p style=\"text-align:justify\"><span style=\"background-color:transparent; color:#000000\">Mỗi dòng trong </span><strong><em>M</em></strong><span style=\"background-color:transparent; color:#000000\"> dòng tiếp theo chứa 2 số nguyên </span><strong><em>a</em></strong><span style=\"background-color:transparent; color:#000000\">, </span><strong><em>b</em></strong><span style=\"background-color:transparent; color:#000000\"> (1 ≤ </span><em><strong>a</strong>,</em><span style=\"background-color:transparent; color:#000000\"> &nbsp;</span><strong><em>b</em></strong><span style=\"background-color:transparent; color:#000000\"> ≤ </span><strong><em>N</em></strong><span style=\"background-color:transparent; color:#000000\">). cho biết vẫn còn đường ống nối nhà </span><strong><em>a</em></strong><span style=\"background-color:transparent; color:#000000\"> với nhà </span><strong><em>b</em></strong></p>\n",
        "\t</li>\n",
        "</ul>\n",
        "\n",
        "<p style=\"text-align:justify\"><em>Kết quả:</em><span style=\"background-color:transparent; color:#000000\"> Đưa ra thiết bị xuất chuẩn số đường ống cần được lắp thêm và số phương án đáp ứng yêu cầu (theo mô đun 10</span><sup><span style=\"background-color:transparent; color:#000000\">9</span></sup><span style=\"background-color:transparent; color:#000000\">+7) mỗi số trên một dòng.</span></p>\n",
        "\n",
        "<p style=\"text-align:justify\"><em>Dữ liệu mẫu:</em></p>\n",
        "\n",
        "<p>&nbsp;</p>\n",
        "\n",
        "![image.png](data:image/png;base64,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)"
      ]
    },
    {
      "cell_type": "markdown",
      "metadata": {
        "id": "_qpKkkzk0KNH"
      },
      "source": [
        "## Tóm tắt bài toán - Abstraction"
      ]
    },
    {
      "cell_type": "markdown",
      "metadata": {
        "id": "qob5uHXW0YFI"
      },
      "source": [
        "Tìm số cạnh ít nhất để các cạnh đó tạo thành 1 đồ thị mà chỉ tồn tại ..."
      ]
    },
    {
      "cell_type": "markdown",
      "metadata": {
        "id": "r0dKoHKz1bSu"
      },
      "source": [
        "## Nhận diện khuôn mẫu - Patter Recoginition"
      ]
    },
    {
      "cell_type": "markdown",
      "metadata": {
        "id": "z1ITLhzI1oqu"
      },
      "source": [
        "- Tìm số thành phần liên thông trong đồ thị vô hướng (Finding connected components of an undirected graph)\n",
        "- Phương pháp đếm (Counting Methods)\n",
        "- Tính toán số dư (Modular Arithmetic)"
      ]
    },
    {
      "cell_type": "markdown",
      "metadata": {
        "id": "Wu3s628M25hf"
      },
      "source": [
        "## Thiết kế thuật toán - Design algorithm"
      ]
    },
    {
      "cell_type": "markdown",
      "metadata": {
        "id": "IRX9WDk82-PT"
      },
      "source": [
        "### Đầu vào đầu ra"
      ]
    },
    {
      "cell_type": "markdown",
      "metadata": {
        "id": "HIFs29o33vkN"
      },
      "source": [
        "Đầu vào:\n",
        "+ Số nguyên dương $n, m (1 <= n, m <= 10^5)$ (với $n$ là số lượng đỉnh, $m$ là số lượng cạnh)\n",
        "+ $m$ dòng tiếp theo, mỗi dòng chứa 2 số $u, v$ thể hiện đỉnh $u$ và $v$ liên kết với nhau.\n",
        "\n",
        "Đầu ra:\n",
        "+ Số lượng cạnh ít nhất được thêm vào đồ thị để tất cả các đỉnh liên thông với nhau.\n",
        "+ Số phương án đáp ứng yêu cầu (modulo $10^9 + 7$)"
      ]
    },
    {
      "cell_type": "markdown",
      "metadata": {
        "id": "jtcDQLCw4mqU"
      },
      "source": [
        "### Mã giả"
      ]
    },
    {
      "cell_type": "markdown",
      "metadata": {
        "id": "VXcKEfb44oR9"
      },
      "source": [
        ""
      ]
    },
    {
      "cell_type": "markdown",
      "metadata": {
        "id": "VnYiH3yR4oyT"
      },
      "source": [
        "## Cài đặt thuật toán"
      ]
    },
    {
      "cell_type": "markdown",
      "metadata": {
        "id": "h7RXj8Od40kg"
      },
      "source": [
        "Hàm tìm miền liên thông bằng phương pháp DFS (Depth First Search)"
      ]
    },
    {
      "cell_type": "code",
      "metadata": {
        "id": "QhdpreS_4yTD"
      },
      "source": [
        "def dfs(u):\n",
        "    mark[u] = False\n",
        "    number[len(number)-1]+= 1\n",
        "    for v in graph[u]:\n",
        "        if (mark[v] == True):\n",
        "            dfs(v)"
      ],
      "execution_count": 1,
      "outputs": []
    },
    {
      "cell_type": "markdown",
      "metadata": {
        "id": "XDul-yGa5AUq"
      },
      "source": [
        "Input"
      ]
    },
    {
      "cell_type": "code",
      "metadata": {
        "id": "1Ucep2ep48i0",
        "outputId": "f125a2a2-ebae-49dd-d90c-f755d216e604",
        "colab": {
          "base_uri": "https://localhost:8080/",
          "height": 51
        }
      },
      "source": [
        "(n , m) = map(int,(input().split()))\n",
        "graph = [[] for i in range(n+1)]\n",
        "for i in range(m):\n",
        "    (u ,v ) = map(int, (input().split()))\n",
        "    graph[u].append(v)\n",
        "    graph[v].append(u)"
      ],
      "execution_count": 2,
      "outputs": [
        {
          "output_type": "stream",
          "text": [
            "6 1\n",
            "1 2\n"
          ],
          "name": "stdout"
        }
      ]
    },
    {
      "cell_type": "code",
      "metadata": {
        "id": "xIdVAlO-9pvI"
      },
      "source": [
        "import sys\n",
        "modulo = 10**9 + 7\n",
        "mark = [True] * (n+1)\n",
        "number = []\n",
        "\n",
        "sys.setrecursionlimit(10**6)\n",
        "for i in range(1, n+1):\n",
        "    if (mark[i] == True):\n",
        "        number.append(0)\n",
        "        dfs(i)\n"
      ],
      "execution_count": 5,
      "outputs": []
    },
    {
      "cell_type": "markdown",
      "metadata": {
        "id": "ysWQByK55S4k"
      },
      "source": [
        "Output"
      ]
    },
    {
      "cell_type": "code",
      "metadata": {
        "id": "1BEarX365ISD",
        "outputId": "aaa71ed5-b932-4e5c-f221-f7673527b9b3",
        "colab": {
          "base_uri": "https://localhost:8080/",
          "height": 51
        }
      },
      "source": [
        "idx = len(number)\n",
        "print(idx - 1)\n",
        "ans = 1\n",
        "for num in number:\n",
        "    ans = ((ans % modulo) * (num % modulo)) % modulo\n",
        "for i in range(idx-2):\n",
        "    ans = ((ans % modulo) * (n % modulo)) % modulo\n",
        "print(ans % modulo)"
      ],
      "execution_count": 6,
      "outputs": [
        {
          "output_type": "stream",
          "text": [
            "4\n",
            "432\n"
          ],
          "name": "stdout"
        }
      ]
    },
    {
      "cell_type": "markdown",
      "metadata": {
        "id": "Dz4YZab05vGf"
      },
      "source": [
        "## Đánh giá thuật toán"
      ]
    },
    {
      "cell_type": "markdown",
      "metadata": {
        "id": "KWqEaUSK5zAo"
      },
      "source": [
        "Tìm miền liên thông bằng phương pháp DFS có độ phức tạp là $O(n + m)$.\n",
        "\n",
        "Vậy độ phức tạp thuật toán là $O(n+m)$."
      ]
    },
    {
      "cell_type": "markdown",
      "metadata": {
        "id": "HtMOYRbs6JBM"
      },
      "source": [
        "## Submit Wecode"
      ]
    },
    {
      "cell_type": "code",
      "metadata": {
        "id": "yCwhXQcj6KuU"
      },
      "source": [
        ""
      ],
      "execution_count": null,
      "outputs": []
    }
  ]
}