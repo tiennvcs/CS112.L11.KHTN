{
  "nbformat": 4,
  "nbformat_minor": 0,
  "metadata": {
    "colab": {
      "name": "Notes.ipynb",
      "provenance": [],
      "collapsed_sections": [],
      "include_colab_link": true
    },
    "kernelspec": {
      "name": "python3",
      "display_name": "Python 3"
    }
  },
  "cells": [
    {
      "cell_type": "markdown",
      "metadata": {
        "id": "view-in-github",
        "colab_type": "text"
      },
      "source": [
        "<a href=\"https://colab.research.google.com/github/tiennvuit/CS112.L11.KHTN/blob/master/Assignment_03/Notes.ipynb\" target=\"_parent\"><img src=\"https://colab.research.google.com/assets/colab-badge.svg\" alt=\"Open In Colab\"/></a>"
      ]
    },
    {
      "cell_type": "markdown",
      "metadata": {
        "id": "VhFr5BzX9nJQ"
      },
      "source": [
        "<h1><center>TÓM TẮT BUỔI HỌC 3 (24-09-2020)</center></h1>"
      ]
    },
    {
      "cell_type": "markdown",
      "metadata": {
        "id": "PFiGu1Q1p3oL"
      },
      "source": [
        "## Nội dung buổi học\n",
        "-----"
      ]
    },
    {
      "cell_type": "markdown",
      "metadata": {
        "id": "UquL2YqTp7Ut"
      },
      "source": [
        "- Giải bài tập tuần trước (Đếm sao).\n",
        "\n",
        "- Giao bài tập mới.\n",
        "\n",
        "- Phân chia seminar cho tuần tiếp theo.\n",
        "\n",
        "- Làm bài tập được giao (H-index, Watter Supply)"
      ]
    },
    {
      "cell_type": "markdown",
      "metadata": {
        "id": "b0djBeThqGsD"
      },
      "source": [
        "## Thảo luận"
      ]
    },
    {
      "cell_type": "markdown",
      "metadata": {
        "id": "Pi3LXi8sqPXA"
      },
      "source": [
        "- Giải bài tập H-index (AC 100%).\n",
        "\n",
        "- Suy nghĩ hướng giải bài tập WatterSupply."
      ]
    },
    {
      "cell_type": "code",
      "metadata": {
        "id": "ZzwpjyDPp55p"
      },
      "source": [
        ""
      ],
      "execution_count": null,
      "outputs": []
    }
  ]
}