{
  "nbformat": 4,
  "nbformat_minor": 0,
  "metadata": {
    "colab": {
      "name": "DiaLan.ipynb",
      "provenance": [],
      "authorship_tag": "ABX9TyMRVFxvtJFVbWLTYP9hlbQK",
      "include_colab_link": true
    },
    "kernelspec": {
      "name": "python3",
      "display_name": "Python 3"
    }
  },
  "cells": [
    {
      "cell_type": "markdown",
      "metadata": {
        "id": "view-in-github",
        "colab_type": "text"
      },
      "source": [
        "<a href=\"https://colab.research.google.com/github/tiennvuit/CS112.L11.KHTN/blob/master/Assignment_06/DiaLan.ipynb\" target=\"_parent\"><img src=\"https://colab.research.google.com/assets/colab-badge.svg\" alt=\"Open In Colab\"/></a>"
      ]
    },
    {
      "cell_type": "markdown",
      "metadata": {
        "id": "H0nqT5mRhg0F"
      },
      "source": [
        "<h1><center>BÀI TẬP TUẦN 6 (15-10-2020)</center></h1>"
      ]
    },
    {
      "cell_type": "markdown",
      "metadata": {
        "id": "-vqI0rJMhv8C"
      },
      "source": [
        "# Thông tin nhóm:\n",
        "\n",
        "1. Trần Trung Anh   - 18520473\n",
        "2. Nguyễn Phú Quốc  - 18520343\n",
        "3. Nguyễn Văn Tiến  - 18521489"
      ]
    },
    {
      "cell_type": "markdown",
      "metadata": {
        "id": "6S1xECZhiDDO"
      },
      "source": [
        "#ĐỊA LAN\n",
        "---"
      ]
    },
    {
      "cell_type": "markdown",
      "metadata": {
        "id": "VbFMzs8DiDsa"
      },
      "source": [
        "## Đề bài\n",
        "----"
      ]
    },
    {
      "cell_type": "markdown",
      "metadata": {
        "id": "mcoQSItgiF4d"
      },
      "source": [
        "<div class=\"problem_description\" id=\"problem_description\">\n",
        "\t\t\t<h3 style=\"text-align: justify;\"><span style=\"color:#2e74b5\"><strong><span style=\"color:#002060\">ĐỊA LAN (1s, 100MB)</span></strong></span></h3>\n",
        "\n",
        "<p style=\"text-align:justify\"><span style=\"color:black\">Giáo sư Braun đã lai giống tạo ra </span><strong><em><span style=\"color:black\">n</span></em></strong><span style=\"color:black\"> loại địa lan mới độc đáo. Mỗi loại địa lan được trồng trong một chậu riêng và được ghi một số thể hiện đặc điểm gene của loại hoa đó, chậu thứ </span><strong><em><span style=\"color:black\">i</span></em></strong><span style=\"color:black\"> có số là </span><strong><em><span style=\"color:black\">a<sub>i</sub></span></em></strong><span style=\"color:black\">, </span><strong><em><span style=\"color:black\">i</span></em></strong><span style=\"color:black\"> = 1 </span><span style=\"color:black\">÷</span> <strong><em><span style=\"color:black\">n</span></em></strong><span style=\"color:black\">.</span></p>\n",
        "\n",
        "<p style=\"text-align:justify\"><span style=\"color:black\">Hội chợ hoa địa lan thế giới mời giáo sư tham gia và giới thiệu các thành quả nghiên cứu của ông. Các chậu hoa do ông mang tới sẽ được đặt trên </span><strong><em><span style=\"color:black\">k</span></em></strong><span style=\"color:black\"> đôn dọc theo đường đi dẫn tới gian hàng chính của hội chợ.&nbsp; </span></p>\n",
        "\n",
        "<p style=\"text-align:justify\"><span style=\"color:black\">Muốn gây ấn tượng mạnh cho những người tham dự, đặc biệt là các nhà khoa học Giáo sư yêu cầu trợ lý của mình chọn </span><strong><em><span style=\"color:black\">k</span></em></strong><span style=\"color:black\"> chậu sao cho khi thực hiện phép </span><strong><em><span style=\"color:black\">AND</span></em></strong><span style=\"color:black\"> số trên các chậu hoa tới (nếu xét chúng ở dạng biểu diễn nhị phân) sẽ có kết quả bằng 0.</span></p>\n",
        "\n",
        "<p style=\"text-align:justify\"><span style=\"color:black\">Hãy xác định xem người trợ lý có thể chọn được </span><strong><em><span style=\"color:black\">k</span></em></strong><span style=\"color:black\"> chậu như vậy hay không và đưa ra thông báo “</span><strong><em><span style=\"color:black\">YES</span></em></strong><span style=\"color:black\">” hoặc “</span><strong><em><span style=\"color:black\">NO</span></em></strong><span style=\"color:black\">”.</span></p>\n",
        "\n",
        "<p style=\"text-align:justify\"><strong><em>Dữ liệu:</em></strong><span style=\"color:black\"> Vào từ thiết bị nhập chuẩn:</span></p>\n",
        "\n",
        "<ul>\n",
        "\t<li style=\"text-align:justify\"><span style=\"color:black\">Dòng đầu tiên chứa 2 số nguyên </span><strong><em><span style=\"color:black\">n</span></em></strong><span style=\"color:black\"> và </span><strong><em><span style=\"color:black\">k</span></em></strong><span style=\"color:black\"> (1 ≤ </span><strong><em><span style=\"color:black\">n</span></em></strong><span style=\"color:black\"> ≤ 2×10<sup>4</sup>, 1 ≤ </span><strong><em><span style=\"color:black\">k</span></em></strong><span style=\"color:black\"> ≤ </span><strong><em><span style=\"color:black\">n</span></em></strong><span style=\"color:black\">),</span></li>\n",
        "\t<li style=\"text-align:justify\"><span style=\"color:black\">Dòng thứ 2 chứa </span><strong><em><span style=\"color:black\">n</span></em></strong><span style=\"color:black\"> số nguyên </span><strong><em><span style=\"color:black\">a<sub>1</sub></span></em></strong><span style=\"color:black\">, </span><strong><em><span style=\"color:black\">a<sub>2</sub></span></em></strong><span style=\"color:black\">, . . ., </span><strong><em><span style=\"color:black\">a<sub>n</sub></span></em></strong><span style=\"color:black\"> (0 ≤ </span><strong><em><span style=\"color:black\">a<sub>i</sub></span></em></strong><span style=\"color:black\"> &lt; 2<sup>12</sup>, </span><strong><em><span style=\"color:black\">i</span></em></strong><span style=\"color:black\"> = 1 </span><span style=\"color:black\">÷</span> <strong><em><span style=\"color:black\">n</span></em></strong><span style=\"color:black\">).</span></li>\n",
        "</ul>\n",
        "\n",
        "<p style=\"text-align:justify\"><strong><em>Kết quả:</em></strong><span style=\"color:black\"> Đưa ra thiết bị xuất chuẩn thông báo tìm được.</span></p>\n"
      ]
    },
    {
      "cell_type": "markdown",
      "metadata": {
        "id": "AazLBmWQinju"
      },
      "source": [
        "####Ví dụ\n",
        "| Input | Output|\n",
        "|-|-|\n",
        "3 2 | YES\n",
        "5 4 3 | |"
      ]
    },
    {
      "cell_type": "markdown",
      "metadata": {
        "id": "CDBF3KsZix79"
      },
      "source": [
        "##Tóm tắt bài toán\n",
        "---"
      ]
    },
    {
      "cell_type": "markdown",
      "metadata": {
        "id": "wYJS-XSyi5KS"
      },
      "source": [
        "Tìm k số bất kì sao cho các số đó thực hiện phép tính bit $AND$ cho ra kết quả bằng 0"
      ]
    },
    {
      "cell_type": "markdown",
      "metadata": {
        "id": "Yq4ERZFajIym"
      },
      "source": [
        "##Nhận diện khuôn mẫu\n",
        "---"
      ]
    },
    {
      "cell_type": "markdown",
      "metadata": {
        "id": "aDJn4eFRjLc9"
      },
      "source": [
        "Đề bài yêu cầu in ra YES hoặc NO với:\n",
        "+ $YES$ là có thể tìm được k số thỏa.\n",
        "+ $NO$ là không thể tìm được k số bất kì nào thỏa.\n",
        "\n",
        "Trước tiên ta thực hiện giải quyết bài toán này, ta cần đổi tất cả các số thành số nhị phân. Ví dụ như sau:\n",
        "\n",
        "$5 -> 101$\n",
        "\n",
        "$4 -> 100$\n",
        "\n",
        "$3 -> 011$\n",
        "\n",
        "Dễ dàng nhận thấy:\n",
        "\n",
        "Để tổng $AND$ bằng 0, trên mỗi cột có tồn tại ít nhất 1 số 0.\n",
        "\n",
        "Nên chỉ cần ta tìm được các số chứa số 0 đầy đủ ở tất cả vị trí thì lời bài giải sẽ là $YES$. Ngược lại là $NO$\n",
        "\n",
        "Vì vậy ta chỉ cần tìm lần lượt các số làm cho số lượng bit 0 giảm nhiều nhất."
      ]
    },
    {
      "cell_type": "markdown",
      "metadata": {
        "id": "HRTjn9IDoMBm"
      },
      "source": [
        "+ Greedy\n",
        "+ Implementation"
      ]
    },
    {
      "cell_type": "markdown",
      "metadata": {
        "id": "9wE6g_r0ozUk"
      },
      "source": [
        "##Cài đặt thuật toán"
      ]
    },
    {
      "cell_type": "code",
      "metadata": {
        "id": "Q4Pa62pzhIGv",
        "outputId": "8e0e72b1-fb30-4ec6-bd10-1a24f297352d",
        "colab": {
          "base_uri": "https://localhost:8080/",
          "height": 197
        }
      },
      "source": [
        "def checkBit(bit):\n",
        "    for i in range(12):\n",
        "        if bit[i]==1:\n",
        "            return 0\n",
        "    return 1\n",
        "import sys\n",
        "n,k=map(int,input().split())\n",
        "arr=list(map(int,input().split()))\n",
        "bit=[0]*n\n",
        "for i in range(n):\n",
        "    bit[i]=list(map(int,bin(arr[i])[2:].zfill(12)))\n",
        "res=[1]*12\n",
        "def findTheBest(res):\n",
        "    idx=0\n",
        "    maxnum=0\n",
        "    for i in range(n):\n",
        "        num=0\n",
        "        for j in range(12):\n",
        "            num+=res[j]*(res[j]^bit[i][j])\n",
        "        if maxnum<num:\n",
        "            maxnum=num\n",
        "            idx=i\n",
        "    return idx,maxnum\n",
        "idx,num=findTheBest(res)\n",
        "res=bit[idx][:]\n",
        "check=checkBit(res)\n",
        "if check==1:\n",
        "    print('YES')\n",
        "    sys.exit()\n",
        "k-=1\n",
        "while k>0:\n",
        "    #Find index\n",
        "    idx,num=findTheBest(res)\n",
        "    if num==0:\n",
        "        break\n",
        "    #Merge the best with res\n",
        "    for j in range(12):\n",
        "        res[j]=res[j]&bit[idx][j]\n",
        "    check=checkBit(res)\n",
        "    if check==1:\n",
        "        print('YES')\n",
        "        sys.exit()\n",
        "    k-=1\n",
        "print('NO')\n"
      ],
      "execution_count": 2,
      "outputs": [
        {
          "output_type": "stream",
          "text": [
            "3 1\n",
            "0 2 4\n",
            "YES\n"
          ],
          "name": "stdout"
        },
        {
          "output_type": "error",
          "ename": "SystemExit",
          "evalue": "ignored",
          "traceback": [
            "An exception has occurred, use %tb to see the full traceback.\n",
            "\u001b[0;31mSystemExit\u001b[0m\n"
          ]
        },
        {
          "output_type": "stream",
          "text": [
            "/usr/local/lib/python3.6/dist-packages/IPython/core/interactiveshell.py:2890: UserWarning: To exit: use 'exit', 'quit', or Ctrl-D.\n",
            "  warn(\"To exit: use 'exit', 'quit', or Ctrl-D.\", stacklevel=1)\n"
          ],
          "name": "stderr"
        }
      ]
    }
  ]
}