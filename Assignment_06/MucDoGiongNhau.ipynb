{
  "nbformat": 4,
  "nbformat_minor": 0,
  "metadata": {
    "colab": {
      "name": "MucDoGiongNhau.ipynb",
      "provenance": [],
      "collapsed_sections": [],
      "authorship_tag": "ABX9TyPWGWmElGHLF6ORJMh+0w30",
      "include_colab_link": true
    },
    "kernelspec": {
      "name": "python3",
      "display_name": "Python 3"
    }
  },
  "cells": [
    {
      "cell_type": "markdown",
      "metadata": {
        "id": "view-in-github",
        "colab_type": "text"
      },
      "source": [
        "<a href=\"https://colab.research.google.com/github/tiennvuit/CS112.L11.KHTN/blob/master/Assignment_06/MucDoGiongNhau.ipynb\" target=\"_parent\"><img src=\"https://colab.research.google.com/assets/colab-badge.svg\" alt=\"Open In Colab\"/></a>"
      ]
    },
    {
      "cell_type": "markdown",
      "metadata": {
        "id": "ePjydUrmPXr6"
      },
      "source": [
        "<h1><center>BÀI TẬP TUẦN 6 (15/09)</center></h1>"
      ]
    },
    {
      "cell_type": "markdown",
      "metadata": {
        "id": "o8ydgSYx1oBi"
      },
      "source": [
        "# Thông tin nhóm:\n",
        "\n",
        "1. Trần Trung Anh   - 18520473\n",
        "2. Nguyễn Phú Quốc  - 18520343\n",
        "3. Nguyễn Văn Tiến  - 18521489"
      ]
    },
    {
      "cell_type": "markdown",
      "metadata": {
        "id": "YP3MjbvkPjfM"
      },
      "source": [
        "#MỨC ĐỘ GIỐNG NHAU\n",
        "---"
      ]
    },
    {
      "cell_type": "markdown",
      "metadata": {
        "id": "gdqjIBe0adEs"
      },
      "source": [
        "## Đề bài\n",
        "----"
      ]
    },
    {
      "cell_type": "markdown",
      "metadata": {
        "id": "dpZPCkmnPsJb"
      },
      "source": [
        "Một quần thể sinh vật ngoài hành tinh có gene tạo thành từ 26 cơ sở ký hiệu từ ***A*** tới ***Z***. Mỗi gene là một xâu ký tự các chữ cái la tinh hoa. Hai cá thể khác nhau có gene khác nhau. Mức độ giống nhau của 2 gene sẽ xác định độ huyết thống của chúng.\n",
        "\n",
        "Độ giống nhau của gene thứ nhất đối với gene thứ 2 là số lượng cặp 2 cơ sở liên tiếp nhau trong gene thứ nhất đồng thời là cặp 2 cơ sở liên tiếp nhau trong gene thứ hai.\n",
        "\n",
        "Ví dụ, gene thứ nhất là ***ABBACAB***, gene thứ 2 là ***BCABB*** thì mức độ giống nhau là 4.\n",
        "\n",
        "\n",
        "Cho hai gene. Hãy xác định mức độ giống nhau của gene thứ nhất với gene thứ 2.\n",
        "\n",
        "**Dữ liệu:** Vào từ thiết bị nhập chuẩn bao gồm 2 dòng chứa 2 xâu khác rỗng xác định gene thứ nhất và gene thứ 2, mỗi xâu chỉ chứa các ký tự chữ cái in hoa và có độ dài không quá 105.\n",
        "\n",
        "**Kết quả:** Đưa ra thiết bị xuất chuẩn một số nguyên – mức độ giống nhau của 2 genes."
      ]
    },
    {
      "cell_type": "markdown",
      "metadata": {
        "id": "qJCitKEPSYX4"
      },
      "source": [
        "####Ví dụ\n",
        "| Input | Output|\n",
        "|-|-|\n",
        "ABBACAB | 4\n",
        "BCABB | |"
      ]
    },
    {
      "cell_type": "markdown",
      "metadata": {
        "id": "E0qU_B95Sz76"
      },
      "source": [
        "##Tóm tắt bài toán\n",
        "---"
      ]
    },
    {
      "cell_type": "markdown",
      "metadata": {
        "id": "lR6jsHyuS4g0"
      },
      "source": [
        "Tập trung vào đoạn ***Độ giống nhau của gene thứ nhất đối với gene thứ 2 là số lượng cặp 2 cơ sở liên tiếp nhau trong gene thứ nhất đồng thời là cặp 2 cơ sở liên tiếp nhau trong gene thứ hai***, ta thấy bài toán này có thể hiểu là \\\n",
        "<h4><center>Tìm số lượng cặp cơ sở liên tiếp nhau trong gen A sao cho cặp cơ sở đó cũng xuất hiện liên tiếp nhau trong gen B.</center></h4>"
      ]
    },
    {
      "cell_type": "markdown",
      "metadata": {
        "id": "sMl6jEv8Vxrw"
      },
      "source": [
        "Như trong ví dụ, hai gen ABBACAB và BCABB có:\n",
        "\n",
        " - **AB** xuất hiện 2 lần trong **AB**BAC**AB** và có trong BC**AB**B\n",
        " - **BB** xuất hiện 1 lần trong A**BB**ACAB và có trong BCA**BB**\n",
        " - **CA** xuất hiện 1 lần trong ABBA**CA**B và có trong B**CA**BB\n",
        "\n",
        "Vậy độ giống nhau giữa hai gen trên là 4.\n"
      ]
    },
    {
      "cell_type": "markdown",
      "metadata": {
        "id": "9ThHPIazahWP"
      },
      "source": [
        "##Nhận diện khuôn mẫu\n",
        "---"
      ]
    },
    {
      "cell_type": "markdown",
      "metadata": {
        "id": "xcKa5kBrarOv"
      },
      "source": [
        "Vì mỗi gen được tạo thành từ các ký tự chữ cái nên ta có thể xem đây là bài toán *Tìm số lượng cặp ký tự kề nhau trong chuỗi A sao cho cặp ký tự đó cũng xuất hiện liền kề trong chuỗi B.*"
      ]
    },
    {
      "cell_type": "markdown",
      "metadata": {
        "id": "ai-5L__Ed1ew"
      },
      "source": [
        "##Chia nhỏ bài toán\n",
        "---"
      ]
    },
    {
      "cell_type": "markdown",
      "metadata": {
        "id": "Y-t24F1Id9jn"
      },
      "source": [
        "Để giải quyết bài toán này, ta cần thực hiện hai bước, với mỗi cặp ký tự liền kề nhau trong chuỗi A:\n",
        "- Kiểm tra xem cặp đó có xuất hiện trong chuỗi B hay không?\n",
        "- Nếu có thì đếm số lượng cặp ký tự đó trong chuỗi A"
      ]
    },
    {
      "cell_type": "markdown",
      "metadata": {
        "id": "LjFDSJHSewCa"
      },
      "source": [
        "##Thiết kế thuật toán\n",
        "---"
      ]
    },
    {
      "cell_type": "markdown",
      "metadata": {
        "id": "V05dWGDae0w-"
      },
      "source": [
        ""
      ]
    },
    {
      "cell_type": "code",
      "metadata": {
        "id": "ku6uGuIt5h0s"
      },
      "source": [
        "s1 = input().strip()\n",
        "s2 = input().strip()\n",
        "d1 = set()\n",
        "for i in range(len(s2) - 1):\n",
        "  key = s2[i:i+2]\n",
        "  d1.add(key)\n",
        "res = 0\n",
        "for i in range(len(s1) - 1):\n",
        "   key = s1[i:i+2]\n",
        "   if (key in d1):\n",
        "     res += 1\n",
        "print(res)\n",
        "\n"
      ],
      "execution_count": null,
      "outputs": []
    }
  ]
}