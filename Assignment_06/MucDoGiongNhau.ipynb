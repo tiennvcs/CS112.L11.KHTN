{
  "nbformat": 4,
  "nbformat_minor": 0,
  "metadata": {
    "colab": {
      "name": "MucDoGiongNhau.ipynb",
      "provenance": [],
      "collapsed_sections": [],
      "authorship_tag": "ABX9TyMDXx+8+hlv0LyS3a5zF+PD",
      "include_colab_link": true
    },
    "kernelspec": {
      "name": "python3",
      "display_name": "Python 3"
    }
  },
  "cells": [
    {
      "cell_type": "markdown",
      "metadata": {
        "id": "view-in-github",
        "colab_type": "text"
      },
      "source": [
        "<a href=\"https://colab.research.google.com/github/tiennvuit/CS112.L11.KHTN/blob/master/Assignment_06/MucDoGiongNhau.ipynb\" target=\"_parent\"><img src=\"https://colab.research.google.com/assets/colab-badge.svg\" alt=\"Open In Colab\"/></a>"
      ]
    },
    {
      "cell_type": "code",
      "metadata": {
        "id": "ku6uGuIt5h0s"
      },
      "source": [
        "s1 = input().strip()\n",
        "s2 = input().strip()\n",
        "d1 = set()\n",
        "for i in range(len(s2) - 1):\n",
        "  key = s2[i:i+2]\n",
        "  d1.add(key)\n",
        "res = 0\n",
        "for i in range(len(s1) - 1):\n",
        "   key = s1[i:i+2]\n",
        "   if (key in d1):\n",
        "     res += 1\n",
        "print(res)\n",
        "\n"
      ],
      "execution_count": null,
      "outputs": []
    }
  ]
}