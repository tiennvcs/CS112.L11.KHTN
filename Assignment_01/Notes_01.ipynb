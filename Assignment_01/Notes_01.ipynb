{
  "nbformat": 4,
  "nbformat_minor": 0,
  "metadata": {
    "colab": {
      "name": "Notes_01.ipynb",
      "provenance": [],
      "collapsed_sections": [],
      "include_colab_link": true
    },
    "kernelspec": {
      "name": "python3",
      "display_name": "Python 3"
    }
  },
  "cells": [
    {
      "cell_type": "markdown",
      "metadata": {
        "id": "view-in-github",
        "colab_type": "text"
      },
      "source": [
        "<a href=\"https://colab.research.google.com/github/tiennvuit/CS112.L11.KHTN/blob/master/Assignment_01/Notes_01.ipynb\" target=\"_parent\"><img src=\"https://colab.research.google.com/assets/colab-badge.svg\" alt=\"Open In Colab\"/></a>"
      ]
    },
    {
      "cell_type": "markdown",
      "metadata": {
        "id": "2_86hABCYkIx",
        "colab_type": "text"
      },
      "source": [
        "# TÓM TẮT, GHI CHÚ, THẢO LUẬN BUỔI HỌC `10-09-2020`"
      ]
    },
    {
      "cell_type": "markdown",
      "metadata": {
        "id": "ycNCIVRyY_QN",
        "colab_type": "text"
      },
      "source": [
        "***1. Tóm tắt và ghi chú***"
      ]
    },
    {
      "cell_type": "markdown",
      "metadata": {
        "id": "EPyZtbiRZCv0",
        "colab_type": "text"
      },
      "source": [
        "- Giới thiệu nội dung, mục tiêu, cách tính điểm của môn học.\n",
        "\n",
        "- Tư duy máy tính:\n",
        "  + Decomposition (Chia nhỏ): từ bài toán gốc chia thành các bài toán nhỏ hơn cho đến khi gặp các bài toán đã quen thuộc.\n",
        "  + Pattern Recognition (Nhận diện mẫu): tìm ra những điểm tương đồng của bài toán hiện tại với các bài toàn đã giải quyết.\n",
        "  + Abstraction (Đơn giản hoá): phân tích những đặc điểm quan trọng của bài toán, lược bỏ những thứ không cần thiết.\n",
        "  + Algorithm Design (Thiết kế thuật toán): thiết lập một bộ các phương pháp sao cho người đọc có thể sử dụng thể giải quyết bài toán.\n",
        "\n",
        "- Chia nhóm."
      ]
    },
    {
      "cell_type": "markdown",
      "metadata": {
        "id": "uSm8FwiHZth2",
        "colab_type": "text"
      },
      "source": [
        "***2. Thảo luận***"
      ]
    },
    {
      "cell_type": "markdown",
      "metadata": {
        "id": "CJjF6HDMZu-8",
        "colab_type": "text"
      },
      "source": [
        "- Cách sắp xếp bàn ghế học tập cho hiệu quả.\n",
        "- Giải đáp câu hỏi của sinh viên.\n",
        "- Thảo luận giải thuật cho bài toán BOT."
      ]
    }
  ]
}