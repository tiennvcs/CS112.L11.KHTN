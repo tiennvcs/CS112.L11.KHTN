{
  "nbformat": 4,
  "nbformat_minor": 0,
  "metadata": {
    "colab": {
      "name": "Notes_01.ipynb",
      "provenance": [],
      "collapsed_sections": [],
      "authorship_tag": "ABX9TyO89yT3QhhbV+x+f34Ir7gL",
      "include_colab_link": true
    },
    "kernelspec": {
      "name": "python3",
      "display_name": "Python 3"
    }
  },
  "cells": [
    {
      "cell_type": "markdown",
      "metadata": {
        "id": "view-in-github",
        "colab_type": "text"
      },
      "source": [
        "<a href=\"https://colab.research.google.com/github/tiennvuit/CS112.L11.KHTN/blob/master/Assignment_01/Notes_01.ipynb\" target=\"_parent\"><img src=\"https://colab.research.google.com/assets/colab-badge.svg\" alt=\"Open In Colab\"/></a>"
      ]
    },
    {
      "cell_type": "markdown",
      "metadata": {
        "id": "2_86hABCYkIx",
        "colab_type": "text"
      },
      "source": [
        "# TÓM TẮT, GHI CHÚ, THẢO LUẬN BUỔI HỌC `10-09-2020`"
      ]
    },
    {
      "cell_type": "markdown",
      "metadata": {
        "id": "ycNCIVRyY_QN",
        "colab_type": "text"
      },
      "source": [
        "1. Tóm tắt và ghi chú"
      ]
    },
    {
      "cell_type": "markdown",
      "metadata": {
        "id": "EPyZtbiRZCv0",
        "colab_type": "text"
      },
      "source": [
        "- Giới thiệu nội dung, mục tiêu, các tính điểm của môn học.\n",
        "\n",
        "- Tư duy máy tính để giải quyết một vấn đề.\n",
        "\n",
        "- Chia nhóm."
      ]
    },
    {
      "cell_type": "markdown",
      "metadata": {
        "id": "uSm8FwiHZth2",
        "colab_type": "text"
      },
      "source": [
        "2. Thảo luận"
      ]
    },
    {
      "cell_type": "markdown",
      "metadata": {
        "id": "CJjF6HDMZu-8",
        "colab_type": "text"
      },
      "source": [
        "- Cách sắp xếp bàn ghế học tập cho hiệu quả"
      ]
    }
  ]
}