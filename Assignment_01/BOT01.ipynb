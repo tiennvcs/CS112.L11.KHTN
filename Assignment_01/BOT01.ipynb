{
  "nbformat": 4,
  "nbformat_minor": 0,
  "metadata": {
    "colab": {
      "name": "BOT01.ipynb",
      "provenance": [],
      "collapsed_sections": [],
      "include_colab_link": true
    },
    "kernelspec": {
      "name": "python3",
      "display_name": "Python 3"
    }
  },
  "cells": [
    {
      "cell_type": "markdown",
      "metadata": {
        "id": "view-in-github",
        "colab_type": "text"
      },
      "source": [
        "<a href=\"https://colab.research.google.com/github/tiennvuit/CS112.L11.KHTN/blob/master/Assignment_01/BOT01.ipynb\" target=\"_parent\"><img src=\"https://colab.research.google.com/assets/colab-badge.svg\" alt=\"Open In Colab\"/></a>"
      ]
    },
    {
      "cell_type": "markdown",
      "metadata": {
        "id": "ilVPKA3AH-Zl",
        "colab_type": "text"
      },
      "source": [
        "# BOT 01"
      ]
    },
    {
      "cell_type": "markdown",
      "metadata": {
        "id": "0nA-_KgRIDJe",
        "colab_type": "text"
      },
      "source": [
        "\n",
        "\n",
        "## Abstraction: \n",
        "\n",
        "- Tìm đoạn con có tổng lớn nhất từ một dãy số a gồm n phần tử.\n",
        "\n"
      ]
    },
    {
      "cell_type": "markdown",
      "metadata": {
        "id": "u1vGrDopKU8c",
        "colab_type": "text"
      },
      "source": [
        "## Pattern Recognition"
      ]
    },
    {
      "cell_type": "markdown",
      "metadata": {
        "id": "LgjSC1xUKaRy",
        "colab_type": "text"
      },
      "source": [
        "- Tổng tiền tố\n",
        "- Quy hoạch động."
      ]
    },
    {
      "cell_type": "markdown",
      "metadata": {
        "id": "Zj_VKzC_Ke0x",
        "colab_type": "text"
      },
      "source": [
        "## Algorithm designed"
      ]
    },
    {
      "cell_type": "markdown",
      "metadata": {
        "id": "SPVVqLSiKhJd",
        "colab_type": "text"
      },
      "source": [
        "- B1: Nhập vào từ màn hình số nguyên dương n và dãy số nguyên có n phần tử.\n",
        "- B2: Gán a[0] = 0, i = 1 \n",
        "- B3: a[i] = a[i] + a[i-1]\n",
        "- B4: i = i + 1\n",
        "- B5: Nếu i > n thì tới B6, ngược lại quay về B3\n",
        "- B6: Gán result = -1e15 - 1, minval = startp = endp = 0, i = 1, minidx = 0\n",
        "- B7: subset = a[i] - minval\n",
        "- B8: Nếu result < subset thì result = subset, startp = minidx + 1, endp = i\n",
        "- B9: Nếu a[i] < minval thì minval = a[i], minidx = i\n",
        "- B10: i = i + 1\n",
        "- B11: Nếu i > n thì tới B12, ngược lại quay về B7\n",
        "- B12: In ra màn hình startp, endp, result\n",
        "- B13: Kết thúc chương trình."
      ]
    },
    {
      "cell_type": "markdown",
      "metadata": {
        "id": "M9IBZ787KiMj",
        "colab_type": "text"
      },
      "source": [
        "## Source code"
      ]
    },
    {
      "cell_type": "code",
      "metadata": {
        "id": "JmgfywCmHmFn",
        "colab_type": "code",
        "colab": {}
      },
      "source": [
        "n = int(input())\n",
        "a = list(input().split(\" \"))\n",
        "#print(a)\n",
        "for i in range(n):\n",
        "    a[i] = int(a[i])\n",
        "for i in range(1,n):\n",
        "    a[i]+= a[i-1]\n",
        "a = [0] + a\n",
        "idx = 0\n",
        "ressuf= 0\n",
        "respre = 0\n",
        "res = -10000000000000000\n",
        "mintmp = 0\n",
        "for i in range(1,n + 1 ):\n",
        "    if (res < a[i] - mintmp):\n",
        "        res = a[i] - mintmp\n",
        "        ressuf = i\n",
        "        respre = idx + 1\n",
        "    if (a[i] < mintmp):\n",
        "        mintmp = a[i]\n",
        "        idx = i\n",
        "print(respre, ressuf, res)\n",
        "#askjdhkasdhkasd"
      ],
      "execution_count": null,
      "outputs": []
    }
  ]
}