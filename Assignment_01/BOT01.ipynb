{
  "nbformat": 4,
  "nbformat_minor": 0,
  "metadata": {
    "colab": {
      "name": "BOT01.ipynb",
      "provenance": [],
      "collapsed_sections": [],
      "toc_visible": true,
      "include_colab_link": true
    },
    "kernelspec": {
      "name": "python3",
      "display_name": "Python 3"
    }
  },
  "cells": [
    {
      "cell_type": "markdown",
      "metadata": {
        "id": "view-in-github",
        "colab_type": "text"
      },
      "source": [
        "<a href=\"https://colab.research.google.com/github/tiennvuit/CS112.L11.KHTN/blob/master/Assignment_01/BOT01.ipynb\" target=\"_parent\"><img src=\"https://colab.research.google.com/assets/colab-badge.svg\" alt=\"Open In Colab\"/></a>"
      ]
    },
    {
      "cell_type": "markdown",
      "metadata": {
        "id": "ilVPKA3AH-Zl",
        "colab_type": "text"
      },
      "source": [
        "# <center>Bài tập tuần 1 (10-09-2020)</center>"
      ]
    },
    {
      "cell_type": "markdown",
      "metadata": {
        "id": "jfIi9zUKKdc-",
        "colab_type": "text"
      },
      "source": [
        "## Thông tin nhóm\n",
        "-----\n",
        "\n",
        "1. Trần Trung Anh  - 18520473 - KHTN2018\n",
        "2. Nguyễn Phú Quốc - 18520343 - KHTN2018\n",
        "3. Nguyễn Văn Tiến - 18521489 - KHTN2018\n"
      ]
    },
    {
      "cell_type": "markdown",
      "metadata": {
        "id": "MLTUSyLOJ82-",
        "colab_type": "text"
      },
      "source": [
        "## Đề bài\n",
        "-------"
      ]
    },
    {
      "cell_type": "markdown",
      "metadata": {
        "id": "r7xGgxJkKLua",
        "colab_type": "text"
      },
      "source": [
        "BOT (Built-Operation-Transfer, có nghĩa: Xây dựng-Vận hành-Chuyển giao) là hình thức Chính phủ kêu gọi các công ty bỏ vốn xây dựng trước (Built) thông qua đấu thầu, sau đó khai thác vận hành một thời gian (Operation) và sau cùng là chuyển giao (Transfer) lại cho nhà nước sở tại.\n",
        "\n",
        "Đường cao tốc xuyên quốc gia được xây dựng theo hình thức BOT. Công ty Đa quốc gia Modern Highway trúng thầu, chia toàn bộ con đường thành n đoạn. Theo tính toán của Công ty sau khi chuyển giao con đường cho chính phủ sở tại quản lý thì lãi thu được ở đoạn đường thứ i là ai, ai có thể dương, âm hoặc bằng 0, tức là với từng đoạn con có thể lãi, lỗ hoặc hòa vốn. Từng nhóm các đoạn đường liên tiếp nhau (gọi tắt là khoảng) được chia cho các công ty con thực hiện. Công ty con ASEAM Highway hiện đang có trụ sở ở nước sở tại được quyền chọn trước khoảng tùy ý (có thể là cả con đường).\n",
        "\n",
        "Dĩ nhiên Ban Giám đốc ASEAM Highway muốn chọn khoảng bắt đầu từ đoạn p đến hết đoạn q mang lại lợi nhuận cao nhất hoặc lỗ ít nhất nếu không có khoảng nào cho lãi.\n",
        "\n",
        "Hãy chỉ ra khoảng cần chọn và lãi thu được. Nếu có nhiều cách chọn thì chỉ ra cách chọn có p nhỏ nhất"
      ]
    },
    {
      "cell_type": "markdown",
      "metadata": {
        "id": "0nA-_KgRIDJe",
        "colab_type": "text"
      },
      "source": [
        "\n",
        "\n",
        "## Tóm tắt\n",
        "------- \n",
        "\n",
        "- Phát biểu bằng lời: Tìm đoạn con có tổng lớn nhất từ một dãy số a gồm n phần tử.\n",
        "\n",
        "- Phát biểu toán học: Tìm đoạn vị trí i, j sao cho $\\sum^{i}_{e=j}a[e] \\ge \\sum^{b}_{f=a}a[f] , \\forall 1 \\le i, j, a, b \\le n , i \\le j $ \n",
        "\n"
      ]
    },
    {
      "cell_type": "markdown",
      "metadata": {
        "id": "u1vGrDopKU8c",
        "colab_type": "text"
      },
      "source": [
        "## Nhận diện các bài toán quen thuộc\n",
        "-----"
      ]
    },
    {
      "cell_type": "markdown",
      "metadata": {
        "id": "LgjSC1xUKaRy",
        "colab_type": "text"
      },
      "source": [
        "- Tổng tiền tố vì sao ?\n",
        "- Quy hoạch động vì sao ?"
      ]
    },
    {
      "cell_type": "markdown",
      "metadata": {
        "id": "Zj_VKzC_Ke0x",
        "colab_type": "text"
      },
      "source": [
        "## Algorithm designed\n",
        "-----"
      ]
    },
    {
      "cell_type": "markdown",
      "metadata": {
        "id": "HPS6Y4rNMf8o",
        "colab_type": "text"
      },
      "source": [
        "### Input"
      ]
    },
    {
      "cell_type": "markdown",
      "metadata": {
        "id": "bTff3g8jPYyG",
        "colab_type": "text"
      },
      "source": [
        "- Số nguyên dương n.\n",
        "- Mảng A[1..n]\n"
      ]
    },
    {
      "cell_type": "markdown",
      "metadata": {
        "id": "siieTbX6Oz8V",
        "colab_type": "text"
      },
      "source": [
        "### Output"
      ]
    },
    {
      "cell_type": "markdown",
      "metadata": {
        "id": "EDr8DjLwPcUU",
        "colab_type": "text"
      },
      "source": [
        "- p, q, max_subarray."
      ]
    },
    {
      "cell_type": "markdown",
      "metadata": {
        "id": "Kk-tLGSTOvOw",
        "colab_type": "text"
      },
      "source": [
        "### Mã giả"
      ]
    },
    {
      "cell_type": "markdown",
      "metadata": {
        "id": "SPVVqLSiKhJd",
        "colab_type": "text"
      },
      "source": [
        "-------------- Quốc ghi lại mã giả ----------------"
      ]
    },
    {
      "cell_type": "markdown",
      "metadata": {
        "id": "M9IBZ787KiMj",
        "colab_type": "text"
      },
      "source": [
        "## Mã nguồn\n",
        "----"
      ]
    },
    {
      "cell_type": "code",
      "metadata": {
        "id": "EqWWXJBTMVY8",
        "colab_type": "code",
        "colab": {}
      },
      "source": [
        "# Định nghĩa hàm biểu diễn giải thuật\n",
        "\n",
        "def solve(a):\n",
        "    # Tính tổng tiền tố\n",
        "    for i in range(1,n):\n",
        "        a[i]+= a[i-1]\n",
        "    a = [0] + a\n",
        "\n",
        "    idx = 0\n",
        "    ressuf= 0\n",
        "    respre = 0\n",
        "    res = -1e10\n",
        "    mintmp = 0\n",
        "\n",
        "    for i in range(1,n + 1 ):\n",
        "        if (res < a[i] - mintmp):\n",
        "            res = a[i] - mintmp\n",
        "            ressuf = i\n",
        "            respre = idx + 1\n",
        "        if (a[i] < mintmp):\n",
        "            mintmp = a[i]\n",
        "            idx = i\n",
        "    return (respre, ressuf, res)"
      ],
      "execution_count": 5,
      "outputs": []
    },
    {
      "cell_type": "code",
      "metadata": {
        "id": "M2QjMtS1NYmC",
        "colab_type": "code",
        "colab": {
          "base_uri": "https://localhost:8080/",
          "height": 51
        },
        "outputId": "833dd637-0248-4f2f-e159-5b1bcbba163d"
      },
      "source": [
        "# Input\n",
        "n = int(input())\n",
        "a = list(map(int, input().split()))"
      ],
      "execution_count": 9,
      "outputs": [
        {
          "output_type": "stream",
          "text": [
            "16\n",
            "2 -4 5 -8 4 -1 -1 1 1 1 -2 2 4 -6 9 -4\n"
          ],
          "name": "stdout"
        }
      ]
    },
    {
      "cell_type": "code",
      "metadata": {
        "id": "FFRg6J5YNuvM",
        "colab_type": "code",
        "colab": {
          "base_uri": "https://localhost:8080/",
          "height": 34
        },
        "outputId": "7982e1ad-c1d1-411f-9fda-5c9ab676261c"
      },
      "source": [
        "# Call function to get result\n",
        "(respre, ressuf, res) = solve(a)\n",
        "print(respre, ressuf, res)"
      ],
      "execution_count": 10,
      "outputs": [
        {
          "output_type": "stream",
          "text": [
            "5 15 12\n"
          ],
          "name": "stdout"
        }
      ]
    },
    {
      "cell_type": "markdown",
      "metadata": {
        "id": "zrKHtOOpO4tJ",
        "colab_type": "text"
      },
      "source": [
        "## Bài giải submit Wecode\n",
        "-----"
      ]
    },
    {
      "cell_type": "markdown",
      "metadata": {
        "id": "Vwb_Mrf4PHE1",
        "colab_type": "text"
      },
      "source": [
        "![image.png](data:image/png;base64,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)"
      ]
    },
    {
      "cell_type": "code",
      "metadata": {
        "id": "pjVLVhcLOCso",
        "colab_type": "code",
        "colab": {}
      },
      "source": [
        ""
      ],
      "execution_count": null,
      "outputs": []
    }
  ]
}