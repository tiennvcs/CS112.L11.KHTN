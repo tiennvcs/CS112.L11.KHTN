{
  "nbformat": 4,
  "nbformat_minor": 0,
  "metadata": {
    "colab": {
      "name": "computational_thinking.ipynb",
      "provenance": [],
      "collapsed_sections": [],
      "toc_visible": true,
      "include_colab_link": true
    },
    "kernelspec": {
      "name": "python3",
      "display_name": "Python 3"
    }
  },
  "cells": [
    {
      "cell_type": "markdown",
      "metadata": {
        "id": "view-in-github",
        "colab_type": "text"
      },
      "source": [
        "<a href=\"https://colab.research.google.com/github/tiennvuit/CS112.L11.KHTN/blob/master/Assignment_01/Computational_Thinking.ipynb\" target=\"_parent\"><img src=\"https://colab.research.google.com/assets/colab-badge.svg\" alt=\"Open In Colab\"/></a>"
      ]
    },
    {
      "cell_type": "markdown",
      "metadata": {
        "id": "K2-HnfrvoHDR"
      },
      "source": [
        "![CT-logo](https://cdn-educators.brainpop.com/wp-content/uploads/2019/10/CT-Posters-Autosaved-1-pdf.jpg)"
      ]
    },
    {
      "cell_type": "markdown",
      "metadata": {
        "id": "EVrRTiI6ogd_"
      },
      "source": [
        "***Thành viên***\n",
        ">Nguyễn Phú Quốc\\\n",
        ">Nguyễn Văn Tiến\\\n",
        ">Trần Trung Anh"
      ]
    },
    {
      "cell_type": "markdown",
      "metadata": {
        "id": "HX5TVHxerZcy"
      },
      "source": [
        "#**TƯ DUY MÁY TÍNH**\n",
        "Phương pháp phân tích vấn đề và đề xuất cách giải quyết sao cho có thể thực hiện được bằng máy tính.\n"
      ]
    },
    {
      "cell_type": "markdown",
      "metadata": {
        "id": "u0_XHs_y9edm"
      },
      "source": [
        "---\n",
        "## 1. Decomposition - Phân rã\n",
        "Chia nhỏ vấn đề cần giải quyết thành các vấn đề nhỏ hơn và tiếp tục cho đến khi gặp các vấn đề đã quen thuộc."
      ]
    },
    {
      "cell_type": "markdown",
      "metadata": {
        "id": "-5nO0YYE_UfV"
      },
      "source": [
        "##2. Pattern Recognition - Phát hiện mẫu\n",
        "Tìm ra những điểm tương đồng của vấn đề cần giải quyết với các vấn đề đã giải quyết từ trước."
      ]
    },
    {
      "cell_type": "markdown",
      "metadata": {
        "id": "mv2wCS8U_r1j"
      },
      "source": [
        "##3. Abstraction - Đơn giản hoá\n",
        "Tìm ra những đặc điểm quan trọng của vấn đề, lược bỏ những thông tin gây nhiễu, không cần thiết."
      ]
    },
    {
      "cell_type": "markdown",
      "metadata": {
        "id": "m_BX8kcN_6Ol"
      },
      "source": [
        "##4. Algorithm Design - Thiết kế giải thuật\n",
        "Thiết lập một bộ quy tắc mà theo đó người khác có thể giải quyết vấn đề tương tự."
      ]
    },
    {
      "cell_type": "markdown",
      "metadata": {
        "id": "l_NAKN_wAVJN"
      },
      "source": [
        "#**VÍ DỤ BÀI TOÁN**"
      ]
    },
    {
      "cell_type": "markdown",
      "metadata": {
        "id": "YYyO6q5MfdI6"
      },
      "source": [
        "####**TÍNH NHẨM**"
      ]
    },
    {
      "cell_type": "markdown",
      "metadata": {
        "id": "fdZls0HgAxYY"
      },
      "source": [
        "![count](https://choihoadep.net/wp-content/uploads/2017/10/meo-hay-giup-be-lop-1-hoc-phep-tinh-nham-cuc-nhanh.jpg)"
      ]
    },
    {
      "cell_type": "markdown",
      "metadata": {
        "id": "9lA215PEAtY2"
      },
      "source": [
        "Phép nhân hai số có hai chữ số 59 và 61. \\\r\n",
        "Thoạt nhìn rất khó để tính nhẩm nhưng nếu ta để ý $59 = 60 - 1$ và $61 = 60 + 1$ (Decomposition)\\\r\n",
        "Phép tính 59 x 61 sẽ trở thành ***(60 - 1)(60 + 1)*** \\\r\n",
        "Sau khi khai triển ta được ***60 x 60 + 60 - 60 - 1*** \\\r\n",
        "Đến đây ta có thể dễ dàng biết được các phép tính số chẵn ***60 x 60 = 3600***(Pattern Recognition) và ***60 - 60 = 0*** (Abstraction)\\\r\n",
        "Kết quả chỉ cần ***3600 - 1 = 3599***."
      ]
    }
  ]
}