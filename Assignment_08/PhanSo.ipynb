{
  "nbformat": 4,
  "nbformat_minor": 0,
  "metadata": {
    "colab": {
      "name": "PhanSo.ipynb",
      "provenance": [],
      "collapsed_sections": [],
      "authorship_tag": "ABX9TyPiNZRLIC6eXe4b5Im8r2G1",
      "include_colab_link": true
    },
    "kernelspec": {
      "name": "python3",
      "display_name": "Python 3"
    }
  },
  "cells": [
    {
      "cell_type": "markdown",
      "metadata": {
        "id": "view-in-github",
        "colab_type": "text"
      },
      "source": [
        "<a href=\"https://colab.research.google.com/github/tiennvuit/CS112.L11.KHTN/blob/master/Assignment_08/PhanSo.ipynb\" target=\"_parent\"><img src=\"https://colab.research.google.com/assets/colab-badge.svg\" alt=\"Open In Colab\"/></a>"
      ]
    },
    {
      "cell_type": "markdown",
      "metadata": {
        "id": "0oB_0VjAFw3E"
      },
      "source": [
        "<h1><center>BÀI TẬP TUẦN 8 (5/1111)</center></h1>"
      ]
    },
    {
      "cell_type": "markdown",
      "metadata": {
        "id": "HJ1mFFbxF4MQ"
      },
      "source": [
        "# Thông tin nhóm:\n",
        "\n",
        "1. Trần Trung Anh   - 18520473\n",
        "2. Nguyễn Phú Quốc  - 18520343\n",
        "3. Nguyễn Văn Tiến  - 18521489"
      ]
    },
    {
      "cell_type": "markdown",
      "metadata": {
        "id": "Br5WorDnF7tk"
      },
      "source": [
        "#PHÂN SỐ\n",
        "---"
      ]
    },
    {
      "cell_type": "markdown",
      "metadata": {
        "id": "jBqIoG8XGDgs"
      },
      "source": [
        "## Đề bài\n",
        "----"
      ]
    },
    {
      "cell_type": "markdown",
      "metadata": {
        "id": "MhvywN4NHyZT"
      },
      "source": [
        "<div class=\"problem_description\" id=\"problem_description\">\n",
        "\t\t\t<p><strong><span style=\"color:#0070c0\">PHÂN SỐ</span></strong></p>\n",
        "\n",
        "<p style=\"text-align:justify\">Cho 2 phân số đúng và tối giản <em> </em><img src=\"data:image/png;base64,iVBORw0KGgoAAAANSUhEUgAAAAsAAAAbCAIAAAAlGOLqAAAAAXNSR0IArs4c6QAAAAlwSFlzAAAOxAAADsQBlSsOGwAAANlJREFUOE/NkrERwjAMRWVmIRQ5JrAnoGMKewI6SgZISuho0yeegEyQSxFrFyP5AsQh5FJwHGrss+QvW/8J7z3Mxmo+TdmlFZgbJTiUUDnGsqSBuUqK9Oi8dxnAdrMeNaZjKTNKU1QadBV2g1iBa+twCa05XfQ+QWvjPnxTUoHUFamFNdYQP5zH3GDFZHL4uH956TL3rWHfx64/P/nZ1N6e0AW7RqcQIFLGjibEFVgWddPC4cYINd0EY2UB2fW8I7YerEQyL7Icg/LOGDBAkhFieHoaI4S+4csdMVO+bHlWAG8AAAAASUVORK5CYII=\" style=\"height:20.25pt; width:8.25pt\"> , <img src=\"data:image/png;base64,iVBORw0KGgoAAAANSUhEUgAAAAgAAAAbCAIAAADOL1npAAAAAXNSR0IArs4c6QAAAAlwSFlzAAAOxAAADsQBlSsOGwAAALxJREFUKFNj/P//PwM2wIRVFChIWOLOxHRrRjBI3w4yBaLjzkRr1VVaNbf//789IU1LFSwGtBzIs7KaABRFBmAdt68dg7jhzvZ0iEFQHSAtILZVGkIfIw38gSsEMMTpYTnhYIcGMjzYwaGLAMBAS9sG5kIkgLEACUUrBlj4AyVAQWs1YRs4lhDxwsRwZ+sqhgkL8z1VQPHCoKMGpCFRC4slYCS1zNIJUL2zffsdSERtA5sPtBQcXTDLSQ8rAB4NlwIFdFhGAAAAAElFTkSuQmCC\" style=\"height:20.25pt; width:6pt\"> &nbsp;. Mỗi phép biến đổi là tăng <strong><em>a</em></strong> và <strong><em>b</em></strong> lên 1, sau đó giản ước phân số nhận được.</p>\n",
        "\n",
        "<p style=\"text-align:justify\">Hãy xác định sau bao nhiêu bước biến đổi từ phân số thứ nhất ban đầu nhận được phân số thứ 2 đã cho.</p>\n",
        "\n",
        "<p style=\"text-align:justify\"><strong><em><span style=\"color:black\">Dữ liệu:</span></em></strong> Vào từ thiết bị nhập chuẩn gồm 4 dòng, mỗi dòng chứa 1 số nguyên <strong><em>a</em></strong>, <strong><em>b</em></strong>, <strong><em>c</em></strong>, <strong><em>d</em></strong>, 0 &lt; <strong><em>a</em></strong> &lt; <strong><em>b</em></strong> ≤10<sup>5</sup>, 0 &lt; <strong><em>c</em></strong> &lt; <strong><em>d</em></strong> ≤ 10<sup>5</sup>, <strong><em>a</em></strong> và <strong><em>b</em></strong> nguyên tố cùng nhau, <strong><em>c</em></strong> và <strong><em>d</em></strong> nguyên tố cùng nhau <img src=\"data:image/png;base64,iVBORw0KGgoAAAANSUhEUgAAAAsAAAAbCAIAAAAlGOLqAAAAAXNSR0IArs4c6QAAAAlwSFlzAAAOxAAADsQBlSsOGwAAANlJREFUOE/NkrERwjAMRWVmIRQ5JrAnoGMKewI6SgZISuho0yeegEyQSxFrFyP5AsQh5FJwHGrss+QvW/8J7z3Mxmo+TdmlFZgbJTiUUDnGsqSBuUqK9Oi8dxnAdrMeNaZjKTNKU1QadBV2g1iBa+twCa05XfQ+QWvjPnxTUoHUFamFNdYQP5zH3GDFZHL4uH956TL3rWHfx64/P/nZ1N6e0AW7RqcQIFLGjibEFVgWddPC4cYINd0EY2UB2fW8I7YerEQyL7Icg/LOGDBAkhFieHoaI4S+4csdMVO+bHlWAG8AAAAASUVORK5CYII=\" style=\"height:20.25pt; width:8.25pt\"> &nbsp;≠ <img src=\"data:image/png;base64,iVBORw0KGgoAAAANSUhEUgAAAA4AAAAbCAIAAADDMSmuAAAAAXNSR0IArs4c6QAAAAlwSFlzAAAOxAAADsQBlSsOGwAAANdJREFUOE/Nk7ERwjAMRe3MgilymcCegKOhSkvnlDAAJQM4LR1teuINGCGNvYuQ7QvHHVEIbkCt/n35S88cANiyKpbJgipH6ttG8ViNnZ6UXH2rRFeeHIAzuhTEozAW9qU0qJuv6OqGezLytqHGYzc6oW1QSj3nzf9mr5+vxinJe4ZfxsLDc/4FWblvjXNICBMDz0IYdE8ANvKauFb7IyNxRekL1zWT9XZFXKVg/tYxcz1sUOEGVq0pJX7DkWvE+nypdsJb66d9AXoduMY4EXA6Vu5e50F8APe90pq6Jj+MAAAAAElFTkSuQmCC\" style=\"height:20.25pt; width:10.5pt\"></p>\n",
        "\n",
        "<p style=\"text-align:justify\"><strong><em><span style=\"color:black\">Kết quả:</span></em></strong> Đưa ra thiết bị xuất chuẩn số 0 nếu không có cách biến đổi hoặc một số nguyên – số lượng phép biến đổi.</p>\n",
        "\n",
        "<p style=\"text-align:justify\"><strong><em><span style=\"color:black\">Ví dụ:</span></em></strong></p>\n",
        "\n",
        "<table border=\"1\" cellspacing=\"0\">\n",
        "\t<tbody>\n",
        "\t\t<tr>\n",
        "\t\t\t<td style=\"background-color:#ffffcc; width:99.0pt\">\n",
        "\t\t\t<p style=\"text-align:center\"><tt><span style=\"color:black\">INPUT</span></tt></p>\n",
        "\t\t\t</td>\n",
        "\t\t\t<td style=\"vertical-align:top; width:49.5pt\">\n",
        "\t\t\t<p style=\"text-align:center\">&nbsp;</p>\n",
        "\t\t\t</td>\n",
        "\t\t\t<td style=\"background-color:#ffffcc; width:99.2pt\">\n",
        "\t\t\t<p style=\"text-align:center\"><tt><span style=\"color:black\">OUTPUT</span></tt></p>\n",
        "\t\t\t</td>\n",
        "\t\t</tr>\n",
        "\t\t<tr>\n",
        "\t\t\t<td style=\"background-color:#ffffcc; width:99.0pt\">\n",
        "\t\t\t<p style=\"text-align:justify\"><tt><strong><span style=\"color:black\">1 6 2 3</span></strong></tt></p>\n",
        "\t\t\t</td>\n",
        "\t\t\t<td style=\"vertical-align:top; width:49.5pt\">\n",
        "\t\t\t<p style=\"text-align:justify\">&nbsp;</p>\n",
        "\t\t\t</td>\n",
        "\t\t\t<td style=\"background-color:#ffffcc; width:99.2pt\">\n",
        "\t\t\t<p style=\"text-align:justify\"><tt><strong><span style=\"color:black\">5</span></strong></tt></p>\n",
        "\t\t\t</td>\n",
        "\t\t</tr>\n",
        "\t</tbody>\n",
        "</table>\n",
        "\t\t</div>"
      ]
    },
    {
      "cell_type": "markdown",
      "metadata": {
        "id": "NUwxz7RVGXrz"
      },
      "source": [
        "##Tóm tắt bài toán\n",
        "---"
      ]
    },
    {
      "cell_type": "markdown",
      "metadata": {
        "id": "KIEAufm6Gafs"
      },
      "source": [
        "##Nhận diện khuôn mẫu\n",
        "---"
      ]
    },
    {
      "cell_type": "markdown",
      "metadata": {
        "id": "CpDV6sROGYQT"
      },
      "source": [
        "##Chia nhỏ bài toán\n",
        "---"
      ]
    },
    {
      "cell_type": "markdown",
      "metadata": {
        "id": "NkFufE3yGelT"
      },
      "source": [
        "##Thiết kế thuật toán\n",
        "---"
      ]
    },
    {
      "cell_type": "markdown",
      "metadata": {
        "id": "mjt6nuZ1GinL"
      },
      "source": [
        "##Cài đặt thuật toán\n",
        "---"
      ]
    },
    {
      "cell_type": "markdown",
      "metadata": {
        "id": "-g25vXIUGmiK"
      },
      "source": [
        "##Đánh giá thuật toán\n",
        "---"
      ]
    },
    {
      "cell_type": "markdown",
      "metadata": {
        "id": "J2nY2SHdGjoz"
      },
      "source": [
        "##Submit Wecode\n",
        "---"
      ]
    }
  ]
}