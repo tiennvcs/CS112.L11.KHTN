{
  "nbformat": 4,
  "nbformat_minor": 0,
  "metadata": {
    "colab": {
      "name": "PhanSo.ipynb",
      "provenance": [],
      "authorship_tag": "ABX9TyNiY89AvOfPtW4umFPWbrfo",
      "include_colab_link": true
    },
    "kernelspec": {
      "name": "python3",
      "display_name": "Python 3"
    }
  },
  "cells": [
    {
      "cell_type": "markdown",
      "metadata": {
        "id": "view-in-github",
        "colab_type": "text"
      },
      "source": [
        "<a href=\"https://colab.research.google.com/github/tiennvuit/CS112.L11.KHTN/blob/master/Assignment_08/PhanSo.ipynb\" target=\"_parent\"><img src=\"https://colab.research.google.com/assets/colab-badge.svg\" alt=\"Open In Colab\"/></a>"
      ]
    },
    {
      "cell_type": "markdown",
      "metadata": {
        "id": "0oB_0VjAFw3E"
      },
      "source": [
        "<h1><center>BÀI TẬP TUẦN 8 (5/1111)</center></h1>"
      ]
    },
    {
      "cell_type": "markdown",
      "metadata": {
        "id": "HJ1mFFbxF4MQ"
      },
      "source": [
        "# Thông tin nhóm:\n",
        "\n",
        "1. Trần Trung Anh   - 18520473\n",
        "2. Nguyễn Phú Quốc  - 18520343\n",
        "3. Nguyễn Văn Tiến  - 18521489"
      ]
    },
    {
      "cell_type": "markdown",
      "metadata": {
        "id": "Br5WorDnF7tk"
      },
      "source": [
        "#PHÂN SỐ\n",
        "---"
      ]
    },
    {
      "cell_type": "markdown",
      "metadata": {
        "id": "jBqIoG8XGDgs"
      },
      "source": [
        "## Đề bài\n",
        "----"
      ]
    },
    {
      "cell_type": "markdown",
      "metadata": {
        "id": "NUwxz7RVGXrz"
      },
      "source": [
        "##Tóm tắt bài toán\n",
        "---"
      ]
    },
    {
      "cell_type": "markdown",
      "metadata": {
        "id": "KIEAufm6Gafs"
      },
      "source": [
        "##Nhận diện khuôn mẫu\n",
        "---"
      ]
    },
    {
      "cell_type": "markdown",
      "metadata": {
        "id": "CpDV6sROGYQT"
      },
      "source": [
        "##Chia nhỏ bài toán\n",
        "---"
      ]
    },
    {
      "cell_type": "markdown",
      "metadata": {
        "id": "NkFufE3yGelT"
      },
      "source": [
        "##Thiết kế thuật toán\n",
        "---"
      ]
    },
    {
      "cell_type": "markdown",
      "metadata": {
        "id": "mjt6nuZ1GinL"
      },
      "source": [
        "##Cài đặt thuật toán\n",
        "---"
      ]
    },
    {
      "cell_type": "markdown",
      "metadata": {
        "id": "-g25vXIUGmiK"
      },
      "source": [
        "##Đánh giá thuật toán\n",
        "---"
      ]
    },
    {
      "cell_type": "markdown",
      "metadata": {
        "id": "J2nY2SHdGjoz"
      },
      "source": [
        "##Submit Wecode\n",
        "---"
      ]
    }
  ]
}