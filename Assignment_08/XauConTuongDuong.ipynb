{
  "nbformat": 4,
  "nbformat_minor": 0,
  "metadata": {
    "colab": {
      "name": "XauConTuongDuong.ipynb",
      "provenance": [],
      "authorship_tag": "ABX9TyN0pQlkJDUhtlfiAmkd06y+",
      "include_colab_link": true
    },
    "kernelspec": {
      "name": "python3",
      "display_name": "Python 3"
    }
  },
  "cells": [
    {
      "cell_type": "markdown",
      "metadata": {
        "id": "view-in-github",
        "colab_type": "text"
      },
      "source": [
        "<a href=\"https://colab.research.google.com/github/tiennvuit/CS112.L11.KHTN/blob/master/Assignment_08/XauConTuongDuong.ipynb\" target=\"_parent\"><img src=\"https://colab.research.google.com/assets/colab-badge.svg\" alt=\"Open In Colab\"/></a>"
      ]
    },
    {
      "cell_type": "markdown",
      "metadata": {
        "id": "A00Ga51DQs19"
      },
      "source": [
        "<h1><center>BÀI TẬP 8 (05-11-2020)</center></h1>"
      ]
    },
    {
      "cell_type": "markdown",
      "metadata": {
        "id": "0AhE8w13RN6h"
      },
      "source": [
        "## Thông tin nhóm:\n",
        "\n",
        "1. Trần Trung Anh   - 18520473\n",
        "2. Nguyễn Phú Quốc  - 18520343\n",
        "3. Nguyễn Văn Tiến  - 18521489"
      ]
    },
    {
      "cell_type": "markdown",
      "metadata": {
        "id": "b8eQil3tRO1p"
      },
      "source": [
        "<h2><center>XÂU CON TƯƠNG ĐƯƠNG (1s, 50MB)</center></h2>"
      ]
    },
    {
      "cell_type": "markdown",
      "metadata": {
        "id": "0GiF-1c2RTsp"
      },
      "source": [
        "<div class=\"col-md-7 col-lg-8 col-sm-12\">\n",
        "\n",
        "<p style=\"text-align:justify\"><span style=\"background-color:transparent; color:#000000\">Cho xâu </span><strong><em>s</em></strong><span style=\"background-color:transparent; color:#000000\"> chỉ chứa các ký tự la tinh thường độ dài </span><strong><em>n</em></strong><span style=\"background-color:transparent; color:#000000\"> không quá 10</span><sup><span style=\"background-color:transparent; color:#000000\">5</span></sup><span style=\"background-color:transparent; color:#000000\">. Ký hiệu </span><em><strong>s</strong>[<strong>i</strong>..<strong>j</strong>]</em><span style=\"background-color:transparent; color:#000000\"> là xâu con các ký tự liên tiếp nhau của <strong>s</strong> từ vị trí </span><strong><em>i</em></strong><span style=\"background-color:transparent; color:#000000\"> đến vị trí </span><em><strong>j</strong>.</em><span style=\"background-color:transparent; color:#000000\"> Hai xâu con </span><strong><em>x</em></strong><span style=\"background-color:transparent; color:#000000\"> = </span><em><strong>s</strong>[<strong>a</strong>..<strong>b</strong>]</em><span style=\"background-color:transparent; color:#000000\"> và </span><em><strong>y</strong> =</em><span style=\"background-color:transparent; color:#000000\"> </span><em><strong>s</strong>[<strong>c</strong>..<strong>d</strong>]</em><span style=\"background-color:transparent; color:#000000\"> được gọi là cùng một lớp tương đương nếu có cách đổi chỗ các ký tự trong một xâu để nhận được xâu kia. Các vị trí được đánh số từ 1 trở đi.</span></p>\n",
        "\n",
        "<p style=\"text-align:justify\"><span style=\"background-color:transparent; color:#000000\">Ví dụ với </span><strong><em>s</em></strong><span style=\"background-color:transparent; color:#000000\"> = “</span><em>abcbacaac</em><span style=\"background-color:transparent; color:#000000\">”, </span><em><strong>s</strong>[</em><strong>1</strong><em>..</em><strong>3</strong><em>]</em><span style=\"background-color:transparent; color:#000000\"> tương đương với </span><em><strong>s</strong>[</em><strong>4</strong><em>..</em><strong>6</strong><em>]</em><span style=\"background-color:transparent; color:#000000\">, còn </span><em><strong>s</strong>[</em><strong>1</strong><em>..</em><strong>3</strong><em>]</em><span style=\"background-color:transparent; color:#000000\"> không tương đương với </span><em><strong>s</strong>[</em><strong>5</strong><em>..</em><strong>7</strong><em>].</em></p>\n",
        "\n",
        "<p style=\"text-align:justify\"><span style=\"background-color:transparent; color:#000000\">Cho </span><strong><em>q</em></strong><span style=\"background-color:transparent; color:#000000\"> truy vấn, mỗi truy vấn là 4 số nguyên </span><strong><em>a</em></strong><span style=\"background-color:transparent; color:#000000\">, </span><strong><em>b</em></strong><span style=\"background-color:transparent; color:#000000\">, </span><strong><em>c</em></strong><span style=\"background-color:transparent; color:#000000\">, </span><strong><em>d</em></strong><span style=\"background-color:transparent; color:#000000\"> xác định các xâu con </span><strong><em>x</em></strong><span style=\"background-color:transparent; color:#000000\"> và </span><strong><em>y</em></strong><span style=\"background-color:transparent; color:#000000\">. Với mỗi truy vấn hãy xác định hai xâu con này có cùng một lớp tương đương hay không và đưa ra câu trả lời tương ứng “</span><em>YES</em><span style=\"background-color:transparent; color:#000000\">” hoặc “</span><em>NO</em><span style=\"background-color:transparent; color:#000000\">”.</span></p>\n",
        "\n",
        "<p style=\"text-align:justify\"><em>Dữ liệu:</em><span style=\"background-color:transparent; color:#000000\"> Vào từ thiết bị nhập chuẩn:</span></p>\n",
        "\n",
        "<ul>\n",
        "\t<li>\n",
        "\t<p style=\"text-align:justify\"><span style=\"background-color:transparent; color:#000000\">Dòng đầu tiên chứa xâu </span><strong><em>s</em></strong><span style=\"background-color:transparent; color:#000000\">,</span></p>\n",
        "\t</li>\n",
        "\t<li>\n",
        "\t<p style=\"text-align:justify\"><span style=\"background-color:transparent; color:#000000\">Dòng thứ 2 chứa số nguyên </span><strong><em>q</em></strong><span style=\"background-color:transparent; color:#000000\"> (1 ≤ &nbsp;</span><strong><em>q</em></strong><span style=\"background-color:transparent; color:#000000\"> &nbsp;≤ 10</span><sup><span style=\"background-color:transparent; color:#000000\">5</span></sup><span style=\"background-color:transparent; color:#000000\">),</span></p>\n",
        "\t</li>\n",
        "\t<li>\n",
        "\t<p style=\"text-align:justify\"><span style=\"background-color:transparent; color:#000000\">Mỗi dòng trong </span><em>q</em><span style=\"background-color:transparent; color:#000000\"> dòng tiếp theo chứa 4 số nguyên </span><strong><em>a</em></strong><span style=\"background-color:transparent; color:#000000\">, </span><strong><em>b</em></strong><span style=\"background-color:transparent; color:#000000\">, </span><strong><em>c</em></strong><span style=\"background-color:transparent; color:#000000\">, </span><strong><em>d</em></strong><span style=\"background-color:transparent; color:#000000\"> (1 ≤ </span><strong><em>a</em></strong><span style=\"background-color:transparent; color:#000000\"> ≤ </span><strong><em>b</em></strong><span style=\"background-color:transparent; color:#000000\"> ≤ </span><strong><em>n</em></strong><span style=\"background-color:transparent; color:#000000\">, 1 ≤ </span><strong><em>c</em></strong><span style=\"background-color:transparent; color:#000000\"> ≤ </span><strong><em>d</em></strong><span style=\"background-color:transparent; color:#000000\"> ≤ </span><strong><em>n</em></strong><span style=\"background-color:transparent; color:#000000\">).</span></p>\n",
        "\t</li>\n",
        "</ul>\n",
        "\n",
        "<p style=\"text-align:justify\"><em>Kết quả:</em><span style=\"background-color:transparent; color:#000000\"> Đưa ra thiết bị xuất chuẩn các câu trả lời xác định được cho mỗi truy vấn, mỗi câu trả lời trên một dòng.</span></p>\n",
        "\n",
        "<p style=\"text-align:justify\"><em>Dữ liệu mẫu:</em></p>\n",
        "\n"
      ]
    },
    {
      "cell_type": "markdown",
      "metadata": {
        "id": "IkRue6o8RzkQ"
      },
      "source": [
        "![image.png](data:image/png;base64,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)"
      ]
    },
    {
      "cell_type": "markdown",
      "metadata": {
        "id": "vMEB80xjR7cv"
      },
      "source": [
        "## Tóm tắt bài toán"
      ]
    },
    {
      "cell_type": "markdown",
      "metadata": {
        "id": "9Y0Ml--kR-1P"
      },
      "source": [
        "Cho trước 1 xâu S bao gồm các kí tự chữ cái la-tinh thường (a-z) và q truy vấn.\n",
        "\n",
        "Với mỗi truy vấn có dạng a b c d. Hãy kiểm tra S[a...b] có tương đương với S[c..d] hay không"
      ]
    },
    {
      "cell_type": "markdown",
      "metadata": {
        "id": "tJXXXXu8SI2a"
      },
      "source": [
        "## Nhận diện khuôn mẫu"
      ]
    },
    {
      "cell_type": "markdown",
      "metadata": {
        "id": "neI1td7wSgYv"
      },
      "source": [
        "###Xâu con tương đương"
      ]
    },
    {
      "cell_type": "markdown",
      "metadata": {
        "id": "vZC7IiZbSiyL"
      },
      "source": [
        "Hai xâu con được gọi là tương đương với nhau khi ta xáo trộn các kí tự trong xâu con A thì ta sẽ có thể nhận được xâu con B.\n",
        "\n",
        "**Ví dụ:**\n",
        "\n",
        "- aabc tương đương với caba\n",
        "\n",
        "- abcda không tương đương với abccd"
      ]
    },
    {
      "cell_type": "markdown",
      "metadata": {
        "id": "ZcKCZE15TEvm"
      },
      "source": [
        "### Tiếp cận bài toán"
      ]
    },
    {
      "cell_type": "markdown",
      "metadata": {
        "id": "dU0SvoorTImh"
      },
      "source": [
        "Để kiểm tra hai xâu con tương đương với nhau. Ta thực hiện đếm số lượng các chữ cái trong mỗi xâu và so sánh số lượng tất cả các chữ cái của hai xâu con bằng nhau thì hai xâu con đó tương đương. Thực hiện thuật toán này ta sẽ mất **O(n)** cho mỗi lần kiểm tra hai xâu con tương đương với nhau. Như vậy ta sẽ mất **O(n * q)** để thực hiện bài toán này. Ta sẽ gặp vấn đề là Time Limit Exceeded (TLE)."
      ]
    },
    {
      "cell_type": "markdown",
      "metadata": {
        "id": "WaZ_5pg0T32w"
      },
      "source": [
        "### Tối ưu bài toán"
      ]
    },
    {
      "cell_type": "markdown",
      "metadata": {
        "id": "8Wr8um9sT6nz"
      },
      "source": [
        "Vì xâu chỉ có 26 kí tự nên ta có thể dễ dàng xâu thành các số.\n",
        "\n",
        "Ta sẽ chuyển đổi các kí tự thành các số biểu diễn dưới dạng bit\n",
        "\n",
        "Ví dụ:\n",
        "- a  "
      ]
    },
    {
      "cell_type": "code",
      "metadata": {
        "id": "FQTTKMyBP7ZV",
        "outputId": "619a1fbe-bc5b-48b7-e22b-e61125415186",
        "colab": {
          "base_uri": "https://localhost:8080/"
        }
      },
      "source": [
        "import sys\n",
        "s=[0]+list(input().strip())\n",
        "queries = int(input())\n",
        "h={}\n",
        "for i in range(97,123):\n",
        "    h[chr(i)]=1<<(i-97)\n",
        "for i in range(1,len(s)):\n",
        "    s[i]=s[i-1]+h[s[i]]\n",
        "for query in range(queries):\n",
        "    a,b,c,d=map(int,input().split())\n",
        "    if (s[b]-s[a-1]==s[d]-s[c-1]):\n",
        "        sys.stdout.write('YES\\n')\n",
        "    else:\n",
        "        sys.stdout.write('NO\\n')\n"
      ],
      "execution_count": 4,
      "outputs": [
        {
          "output_type": "stream",
          "text": [
            "abcddcba\n",
            "2\n",
            "1 3 4 6\n",
            "NO\n",
            "2 4 5 7\n",
            "YES\n"
          ],
          "name": "stdout"
        }
      ]
    }
  ]
}