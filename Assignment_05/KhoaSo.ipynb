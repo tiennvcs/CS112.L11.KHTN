{
  "nbformat": 4,
  "nbformat_minor": 0,
  "metadata": {
    "colab": {
      "name": "KhoaSo.ipynb",
      "provenance": [],
      "authorship_tag": "ABX9TyNvvhqmjNsR1BjlSijV1ExS",
      "include_colab_link": true
    },
    "kernelspec": {
      "name": "python3",
      "display_name": "Python 3"
    }
  },
  "cells": [
    {
      "cell_type": "markdown",
      "metadata": {
        "id": "view-in-github",
        "colab_type": "text"
      },
      "source": [
        "<a href=\"https://colab.research.google.com/github/tiennvuit/CS112.L11.KHTN/blob/master/Assignment_05/KhoaSo.ipynb\" target=\"_parent\"><img src=\"https://colab.research.google.com/assets/colab-badge.svg\" alt=\"Open In Colab\"/></a>"
      ]
    },
    {
      "cell_type": "markdown",
      "metadata": {
        "id": "EEJI-SQE8ps7"
      },
      "source": [
        ""
      ]
    },
    {
      "cell_type": "code",
      "metadata": {
        "id": "iEu3zWxs1EUO"
      },
      "source": [
        "n = input()\n",
        "digit=[0]*100\n",
        "for i in range(len(n)):\n",
        "    digit[ord(n[i])-48]+=1\n",
        "tong=sum([(i*digit[i]) for i in range(10)])\n",
        "if tong%3!=0:\n",
        "    start=tong%3\n",
        "    if tong%3 == 1:\n",
        "        end=3\n",
        "        step=1\n",
        "    else:\n",
        "        if tong%3==2:\n",
        "            end=0\n",
        "            step=-1\n",
        "    for modnum in range(start,end,step):\n",
        "        if tong%3==0:\n",
        "            break\n",
        "        so=modnum\n",
        "        while so<10:\n",
        "            while digit[so]>0 and tong%3!=0:\n",
        "                digit[so]-=1\n",
        "                tong-=so\n",
        "            if tong%3==0:\n",
        "                break\n",
        "            so+=3\n",
        "##Output\n",
        "kq=''\n",
        "for i in range(9,-1,-1):\n",
        "    for j in range(digit[i]):\n",
        "        kq+=chr(i+48)\n",
        "print(kq)\n"
      ],
      "execution_count": null,
      "outputs": []
    }
  ]
}