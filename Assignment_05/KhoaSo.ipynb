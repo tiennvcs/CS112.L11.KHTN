{
  "nbformat": 4,
  "nbformat_minor": 0,
  "metadata": {
    "colab": {
      "name": "KhoaSo.ipynb",
      "provenance": [],
      "collapsed_sections": [],
      "include_colab_link": true
    },
    "kernelspec": {
      "name": "python3",
      "display_name": "Python 3"
    }
  },
  "cells": [
    {
      "cell_type": "markdown",
      "metadata": {
        "id": "view-in-github",
        "colab_type": "text"
      },
      "source": [
        "<a href=\"https://colab.research.google.com/github/tiennvuit/CS112.L11.KHTN/blob/master/Assignment_05/KhoaSo.ipynb\" target=\"_parent\"><img src=\"https://colab.research.google.com/assets/colab-badge.svg\" alt=\"Open In Colab\"/></a>"
      ]
    },
    {
      "cell_type": "markdown",
      "metadata": {
        "id": "BFcd-x-xeOHX"
      },
      "source": [
        "<h1><center> BÀI TẬP TUẦN 5 (08-10-2020)</CENTER></h1>"
      ]
    },
    {
      "cell_type": "markdown",
      "metadata": {
        "id": "T8nKsnBGeX-E"
      },
      "source": [
        "# Thông tin nhóm:\n",
        "\n",
        "1. Trần Trung Anh   - 18520473\n",
        "2. Nguyễn Phú Quốc  - 18520343\n",
        "3. Nguyễn Văn Tiến  - 18521489"
      ]
    },
    {
      "cell_type": "markdown",
      "metadata": {
        "id": "AQuLLIs1jnGS"
      },
      "source": [
        "### Đề bài\n",
        "\n",
        "----"
      ]
    },
    {
      "cell_type": "markdown",
      "metadata": {
        "id": "ATE5S3M0-4de"
      },
      "source": [
        "Để tăng độ an toàn chống hiện tượng cướp ngân hàng ngày càng phổ biến người ta dùng khóa số với mã mở khóa đơn giản nhưng rất hiệu quả. Trên cửa ra vào hiển thị một xâu khá dài các ký tự số. Các chữ số có thể di chuyển đổi chổ cho nhau hoặc bị xóa. Muốn mở khóa người ta phải di chuyển các chữ số và trong trường hợp cần thiết – xóa vài chữ số để nhận được xâu lớn nhất thỏa mãn điều kiện đã cài đặt. Điều kiện này được thay đổi thường xuyên. Hôm nay điều kiện đó là “Số nhận được phải chia hết cho 3”. Số nhận được có thể bắt đầu bằng các chữ số 0. Xâu “000” sẽ lớn hơn xâu “00”.\n",
        "\n",
        "Hãy xác định khóa mở cửa.\n",
        "\n",
        "Dữ liệu: Vào từ thiết bị nhập chuẩn gồm một xâu ký tự số có độ dài lớn hơn 2 và không vượt quá 105.\n",
        "\n",
        "Kết quả: Đưa ra thiết bị xuất chuẩn xâu khóa mở cửa."
      ]
    },
    {
      "cell_type": "markdown",
      "metadata": {
        "id": "Ca-y1w1HAHsN"
      },
      "source": [
        "### Tóm tắt bài toán"
      ]
    },
    {
      "cell_type": "markdown",
      "metadata": {
        "id": "QEBRm6-CAJem"
      },
      "source": [
        "- Từ 1 số nguyên ban đầu, ta thực hiện các bước hoán đối vị trí các chữ số hoặc xóa đi các chữ số sao cho số nhận được là số lớn nhất và chia hết cho 3\n",
        "\n",
        "- Ví dụ: \n",
        "  \n",
        "   Input:\n",
        "\n",
        "   1052\n",
        "\n",
        "   Output:\n",
        "\n",
        "   510\n",
        "- Ta thực hiện xóa số 2 để có thể nhận được số lớn nhất và chia hết cho 3 là số 510"
      ]
    },
    {
      "cell_type": "markdown",
      "metadata": {
        "id": "yCY5TmIVACVD"
      },
      "source": [
        "### Cài đặt thuật toán"
      ]
    },
    {
      "cell_type": "code",
      "metadata": {
        "id": "VEnOcOj8dK6C"
      },
      "source": [
        "n = input()\n",
        "digit=[0]*100\n",
        "for i in range(len(n)):\n",
        "    digit[ord(n[i])-48]+=1\n",
        "tong=sum([(i*digit[i]) for i in range(10)])\n",
        "if tong%3!=0:\n",
        "    start=tong%3\n",
        "    if tong%3 == 1:\n",
        "        end=3\n",
        "        step=1\n",
        "    else:\n",
        "        if tong%3==2:\n",
        "            end=0\n",
        "            step=-1\n",
        "    for modnum in range(start,end,step):\n",
        "        if tong%3==0:\n",
        "            break\n",
        "        so=modnum\n",
        "        while so<10:\n",
        "            while digit[so]>0 and tong%3!=0:\n",
        "                digit[so]-=1\n",
        "                tong-=so\n",
        "            if tong%3==0:\n",
        "                break\n",
        "            so+=3\n",
        "##Output\n",
        "kq=''\n",
        "for i in range(9,-1,-1):\n",
        "    for j in range(digit[i]):\n",
        "        kq+=chr(i+48)\n",
        "print(kq)\n"
      ],
      "execution_count": null,
      "outputs": []
    }
  ]
}