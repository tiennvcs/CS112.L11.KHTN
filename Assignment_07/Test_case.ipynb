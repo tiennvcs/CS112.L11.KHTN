{
  "nbformat": 4,
  "nbformat_minor": 0,
  "metadata": {
    "colab": {
      "name": "Test case.ipynb",
      "provenance": [],
      "collapsed_sections": [],
      "authorship_tag": "ABX9TyMd8FAdfqcQUEDY+NW9UEs4",
      "include_colab_link": true
    },
    "kernelspec": {
      "name": "python3",
      "display_name": "Python 3"
    }
  },
  "cells": [
    {
      "cell_type": "markdown",
      "metadata": {
        "id": "view-in-github",
        "colab_type": "text"
      },
      "source": [
        "<a href=\"https://colab.research.google.com/github/tiennvuit/CS112.L11.KHTN/blob/master/Assignment_07/Test_case.ipynb\" target=\"_parent\"><img src=\"https://colab.research.google.com/assets/colab-badge.svg\" alt=\"Open In Colab\"/></a>"
      ]
    },
    {
      "cell_type": "markdown",
      "metadata": {
        "id": "xEjVQHG9FcEs"
      },
      "source": [
        "<h1><center>CS112.L11.KHTN</center></h1>\n",
        "<h1><center>Phân tích và thiết kết thuật toán</center></h1>"
      ]
    },
    {
      "cell_type": "markdown",
      "metadata": {
        "id": "gkexhTueFrB5"
      },
      "source": [
        "<h1><center>Bài tập tuần 7: Tạo test case</center></h1>"
      ]
    },
    {
      "cell_type": "code",
      "metadata": {
        "id": "LgDCvyd7FXJI"
      },
      "source": [
        ""
      ],
      "execution_count": null,
      "outputs": []
    }
  ]
}