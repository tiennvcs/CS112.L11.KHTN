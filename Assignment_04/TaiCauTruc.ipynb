{
  "nbformat": 4,
  "nbformat_minor": 0,
  "metadata": {
    "colab": {
      "name": "TaiCauTruc.ipynb",
      "provenance": [],
      "authorship_tag": "ABX9TyPaohE4oqwEErj3e5LM7Gr3",
      "include_colab_link": true
    },
    "kernelspec": {
      "name": "python3",
      "display_name": "Python 3"
    }
  },
  "cells": [
    {
      "cell_type": "markdown",
      "metadata": {
        "id": "view-in-github",
        "colab_type": "text"
      },
      "source": [
        "<a href=\"https://colab.research.google.com/github/tiennvuit/CS112.L11.KHTN/blob/master/Assignment_04/TaiCauTruc.ipynb\" target=\"_parent\"><img src=\"https://colab.research.google.com/assets/colab-badge.svg\" alt=\"Open In Colab\"/></a>"
      ]
    },
    {
      "cell_type": "markdown",
      "metadata": {
        "id": "H-RycOxwo6Id"
      },
      "source": [
        "<h1><center>BÀI TẬP TUẦN 4 - 30-09-2020</center></h1>"
      ]
    },
    {
      "cell_type": "markdown",
      "metadata": {
        "id": "U0XGgtcXpE6J"
      },
      "source": [
        "# Thông tin nhóm:\n",
        "\n",
        "1. Trần Trung Anh   - 18520473\n",
        "2. Nguyễn Phú Quốc  - 18520343\n",
        "3. Nguyễn Văn Tiến  - 18521489"
      ]
    },
    {
      "cell_type": "markdown",
      "metadata": {
        "id": "moimdW0PpHgZ"
      },
      "source": [
        "\n",
        "\n",
        "```\n",
        "# This is formatted as code\n",
        "```\n",
        "## 2. Tái cấu trúc"
      ]
    },
    {
      "cell_type": "markdown",
      "metadata": {
        "id": "H7r5XV9upOjx"
      },
      "source": [
        "### Đề bài"
      ]
    },
    {
      "cell_type": "markdown",
      "metadata": {
        "id": "q8zAhN3apnFO"
      },
      "source": [
        "<div class=\"problem_description\" id=\"problem_description\">\n",
        "\t\t\t<p>Sau thời gian làm việc tại nhà (work from home) do tình hình dịch bệnh, công ty <strong>X</strong> nhận thấy đây là cơ hội để thay đổi mô hình làm việc của công ty để hướng tới tính đơn giản, hiệu quả cao hơn trong công việc. Cụ thể, công ty hiện tại gồm <em><strong>n</strong></em> nhân viên. Có <em><strong>m</strong></em> quan hệ dạng (<strong><em><span style=\"color:black\">a<sub>i</sub></span></em></strong>, <strong><em><span style=\"color:black\">b<sub>i</sub></span></em></strong>) trong đó người bi nhận công việc từ người <strong><em><span style=\"color:black\">a<sub>i</sub></span></em></strong> và <strong><em><span style=\"color:black\">a<sub>i</sub></span></em></strong> chỉ đạo cho <strong><em><span style=\"color:black\">b<sub>i</sub></span></em></strong>. Mỗi nhân viên khi nhận việc có thể phân công cho những nhân viên do mình chỉ đạo. Nếu công viêc từ <strong><em><span style=\"color:black\">a</span></em></strong> có thể tới được <strong><em><span style=\"color:black\">b</span></em></strong>, ta gọi <strong><em><span style=\"color:black\">a</span></em></strong> là cấp trên của <strong><em><span style=\"color:black\">b</span></em></strong> và <strong><em><span style=\"color:black\">b</span></em></strong> là cấp dưới của <strong><em><span style=\"color:black\">a</span></em></strong>.</p>\n",
        "\n",
        "<p>Sau khi họp đại hội cổ ccông trực tuyến, công ty <strong>X</strong> quyết định thực hiện tái cấu trúc như sau:</p>\n",
        "\n",
        "<ul>\n",
        "\t<li>Thứ nhất, chọn ra một giám đốc, người này phải là người không có cấp trên và công việc mà người này phân công có thể tới được mọi người trong công ty;</li>\n",
        "\t<li>Những người còn lại, mỗi người sẽ chỉ còn nhận việc trực tiếp từ đúng 1 người. Để tránh xáo trộn trong hoạt động sau khi thực hiện thay đổi, với mỗi người, tập những người là cấp trên của người đó phải không thay đổi (so với trước khi thực hiện tái cấu trúc).</li>\n",
        "</ul>\n",
        "\n",
        "<p><em><strong>Yêu cầu:</strong></em> Xác định công ty X có thể tái cấu trúc hay không, nếu không được - <span style=\"color:black\">đưa ra thông báo “</span><strong><em><span style=\"color:black\">No</span></em></strong><span style=\"color:black\">”. Trong trường hợp có thể – đưa ra thông báo “</span><strong><em><span style=\"color:black\">Yes</span></em></strong><span style=\"color:black\">” và chỉ ra dãy số </span><strong><em><span style=\"color:black\">p<sub>i</sub></span></em></strong><span style=\"color:black\"> xác định người có quyền phân công công việc cho người </span><strong><em><span style=\"color:black\">i</span></em></strong><span style=\"color:black\"> (</span>1 ≤ <strong><em>i</em></strong> ≤ <strong><em>n</em></strong>)<span style=\"color:black\">. Với Giám đốc </span><strong><em><span style=\"color:black\">p<sub>i</sub></span></em></strong><span style=\"color:black\"> tương ứng có giá trị là </span><strong><em><span style=\"color:black\">-1</span></em></strong><span style=\"color:black\">.</span></p>\n",
        "\n",
        "<p style=\"text-align:justify\"><strong><em>Dữ liệu:</em></strong><span style=\"color:black\"> Vào từ file thiết bị nhập chuẩn: </span></p>\n",
        "\n",
        "<ul>\n",
        "\t<li style=\"text-align:justify\"><span style=\"color:black\">Dòng đầu tiên chứa 2 số nguyên </span><strong><em><span style=\"color:black\">n</span></em></strong><span style=\"color:black\"> và </span><strong><em><span style=\"color:black\">m</span></em></strong><span style=\"color:black\"> (1 ≤ </span><strong><em><span style=\"color:black\">n</span></em></strong><span style=\"color:black\">, </span><strong><em><span style=\"color:black\">m</span></em></strong><span style=\"color:black\"> ≤ 5×10<sup>5</sup>),</span></li>\n",
        "\t<li style=\"text-align:justify\"><span style=\"color:black\">Dòng thứ </span><strong><em><span style=\"color:black\">i</span></em></strong><span style=\"color:black\"> trong </span><strong><em><span style=\"color:black\">m</span></em></strong><span style=\"color:black\"> dòng sau chứa 2 số nguyên </span><strong><em><span style=\"color:black\">a<sub>i</sub></span></em></strong><span style=\"color:black\"> và </span><strong><em><span style=\"color:black\">b<sub>i</sub></span></em></strong><span style=\"color:black\"> (1 ≤ </span><strong><em><span style=\"color:black\">a<sub>i</sub></span></em></strong><span style=\"color:black\">, </span><strong><em><span style=\"color:black\">b<sub>i</sub></span></em></strong><span style=\"color:black\"> ≤ </span><strong><em><span style=\"color:black\">n</span></em></strong><span style=\"color:black\">, </span><strong><em><span style=\"color:black\">a<sub>i</sub></span></em></strong><span style=\"color:black\"> ≠ </span><strong><em><span style=\"color:black\">b<sub>i</sub></span></em></strong><span style=\"color:black\">).</span></li>\n",
        "</ul>\n",
        "\n",
        "<p style=\"text-align:justify\"><strong><em>Kết quả:</em></strong><span style=\"color:black\"> Đưa ra thiết bị xuất chuẩn thông báo “</span><strong><em><span style=\"color:black\">No</span></em></strong><span style=\"color:black\">” hoặc “</span><strong><em><span style=\"color:black\">Yes</span></em></strong><span style=\"color:black\">”. Nếu kết quả là “</span><strong><em><span style=\"color:black\">Yes</span></em></strong><span style=\"color:black\">” – trên dòng thứ 2 đưa ra </span><strong><em><span style=\"color:black\">n</span></em></strong><span style=\"color:black\"> số nguyên </span><strong><em><span style=\"color:black\">p<sub>1</sub></span></em></strong><span style=\"color:black\">, </span><strong><em><span style=\"color:black\">p<sub>2</sub></span></em></strong><span style=\"color:black\">, . . ., </span><strong><em><span style=\"color:black\">p<sub>n</sub></span></em></strong><span style=\"color:black\"> tương ứng.</span></p>\n",
        "\n",
        "<p style=\"text-align:justify\"><strong><em>Ví dụ: </em></strong></p>\n",
        "</div>"
      ]
    },
    {
      "cell_type": "markdown",
      "metadata": {
        "id": "-msgY7TlrqCP"
      },
      "source": [
        "![image.png](data:image/png;base64,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)"
      ]
    },
    {
      "cell_type": "markdown",
      "metadata": {
        "id": "vJwIdIixrsS9"
      },
      "source": [
        "### Tóm tắt bài toán - Abstraction"
      ]
    },
    {
      "cell_type": "markdown",
      "metadata": {
        "id": "L4Bmx3i5r8DM"
      },
      "source": [
        "In ra Yes nếu thỏa các điều kiện sau:\n",
        "+ Tìm ra đúng 1 đỉnh có cạnh đi ra nhưng không có cạnh vào\n",
        "+ Tạo ra 1 cây đi qua hết các đỉnh sao cho tập đỉnh cha của mỗi đỉnh vẫn giữ nguyên như lúc ban đầu.\n",
        "\n",
        "Ngược lại in ra No"
      ]
    },
    {
      "cell_type": "markdown",
      "metadata": {
        "id": "XQ1slyR4wUx4"
      },
      "source": [
        "### Nhận diện khuôn mẫu - Pattern Recognition"
      ]
    },
    {
      "cell_type": "markdown",
      "metadata": {
        "id": "xr2YnmhtwZBY"
      },
      "source": [
        "+ Graph \n",
        "+ BFS (Breadh First Search) hoặc (Depth First Search)"
      ]
    },
    {
      "cell_type": "markdown",
      "metadata": {
        "id": "YV111tGXxMBt"
      },
      "source": [
        "### Thiết kế thuật toán - Design Algorithm"
      ]
    },
    {
      "cell_type": "markdown",
      "metadata": {
        "id": "01rmbUxExQuV"
      },
      "source": [
        "#### Đầu vào - Đầu ra"
      ]
    },
    {
      "cell_type": "markdown",
      "metadata": {
        "id": "aYUVtuWhxTQy"
      },
      "source": [
        "Đầu vào:\n",
        "+ Số nguyên dương $n, m$ $(1 <= n, m <= 10^5) $ với n là số lượng đỉnh và m là số lượng cạnh\n",
        "+ $m$ dòng tiếp theo, mỗi dòng chứa hai số $u$ và $v$ ($u$ liên thông tới $v$ nhưng $v$ không liên thông tới $u$)\n",
        "\n",
        "Đầu ra:\n",
        "+ In ra No nếu không tìm được kết quả\n",
        "+ Ngược lại, nếu tìm được kết quả:\n",
        " + Dòng đầu in ra Yes\n",
        " + Dòng thứ 2 in ra $n$ số là các đỉnh cha của đỉnh thứ i"
      ]
    },
    {
      "cell_type": "code",
      "metadata": {
        "id": "hLFqGVWjn0vv"
      },
      "source": [
        "import sys\n",
        "sys.setrecursionlimit(10**6)\n",
        "##Input\n",
        "n, m = map(int, input().split())\n",
        "graph = {}\n",
        "mark = set()\n",
        "for i in range(m):\n",
        "    u , v = map(int, input().split())\n",
        "    try:\n",
        "        graph[u].append(v)\n",
        "    except:\n",
        "        graph[u] = [v]\n",
        "    if not(v in mark):\n",
        "        mark.add(v)\n",
        "if len(mark) != n-1:\n",
        "    print('No')\n",
        "    sys.exit()\n",
        "start = 0\n",
        "for u in range(1, n + 1):\n",
        "    if u not in mark:\n",
        "        start = u\n",
        "        break\n",
        "kq = [0] * (n + 1)\n",
        "floor = [0] * (n+1)\n",
        "kq[start] = -1\n",
        "p = [0] * (n+1)\n",
        "def dfs(u, fl):\n",
        "    floor[u] = fl\n",
        "    p[u] = 1\n",
        "    if (u not in graph):\n",
        "        return\n",
        "    for v in graph[u]:\n",
        "        if (floor[v] < fl + 1):\n",
        "            kq[v] = u\n",
        "        if p[v] == 0:\n",
        "            dfs(v, fl+1)\n",
        "dfs(start,1)\n",
        "#Output\n",
        "print('Yes')\n",
        "for i in range(1, n + 1):\n",
        "    print(kq[i], end = ' ')"
      ],
      "execution_count": null,
      "outputs": []
    }
  ]
}