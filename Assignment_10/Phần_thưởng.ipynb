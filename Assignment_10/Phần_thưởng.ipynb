{
  "nbformat": 4,
  "nbformat_minor": 0,
  "metadata": {
    "colab": {
      "name": "Phần thưởng.ipynb",
      "provenance": [],
      "collapsed_sections": [],
      "include_colab_link": true
    },
    "kernelspec": {
      "name": "python3",
      "display_name": "Python 3"
    }
  },
  "cells": [
    {
      "cell_type": "markdown",
      "metadata": {
        "id": "view-in-github",
        "colab_type": "text"
      },
      "source": [
        "<a href=\"https://colab.research.google.com/github/tiennvuit/CS112.L11.KHTN/blob/master/Assignment_10/Ph%E1%BA%A7n_th%C6%B0%E1%BB%9Fng.ipynb\" target=\"_parent\"><img src=\"https://colab.research.google.com/assets/colab-badge.svg\" alt=\"Open In Colab\"/></a>"
      ]
    },
    {
      "cell_type": "markdown",
      "metadata": {
        "id": "Nxg1M3Cf-opl"
      },
      "source": [
        "<h1><center>Phần thưởng</center></h1>"
      ]
    },
    {
      "cell_type": "markdown",
      "metadata": {
        "id": "n9WcyQTG_AQ-"
      },
      "source": [
        "##Bài toán"
      ]
    },
    {
      "cell_type": "markdown",
      "metadata": {
        "id": "BKhtsUPr_CQ2"
      },
      "source": [
        "<div class=\"problem_description\" id=\"problem_description\">\r\n",
        "\t\t\t<p><strong><span style=\"color:#002060\">PHẦN THƯỞNG</span></strong></p>\r\n",
        "\r\n",
        "<p style=\"text-align:justify\">Harry và Hermione thắng cuộc trong một trò chơi truyền hình và bây giờ là giai đoạn trao thưởng. Quy tắc trao thưởng là như sau: có <strong><em>n</em></strong> phần thưởng xếp thành một hàng dài, đánh số từ 1 đến <strong><em>n</em></strong>. Tùy thuộc vào số điểm đã đạt được của cặp chơi, người dẫn chương trình sẽ nói một số <strong><em>k</em></strong> (1 ≤ <strong><em>k</em></strong> ≤ <strong><em>n</em></strong>/3). Một người chơi sẽ chọn cho mình <strong><em>k</em></strong> phần thưởng xếp liên tiếp nhau, người thứ hai cũng sẽ chọn cho mình <strong><em>k</em></strong> phần thưởng xếp liên tiếp nhau <em>trong số còn lại</em>. Hermione là nữ nên được ưu tiên chọn trước.</p>\r\n",
        "\r\n",
        "<p style=\"text-align:justify\">Trò chơi đã kết thúc. Bây giờ không cần phải đồng tâm hiệp lực. Hermione vẫn còn rất giận Harry về một câu nói vô tâm mà chắc bây giờ Harry cũng không nhớ là mình nói cái gì và khi nào. Hermione hiểu rất rõ giá trị mỗi phần thưởng đối với Harry, cụ thể là phần thưởng thứ <strong><em>i</em></strong> sẽ có giá trị <strong><em>a<sub>i</sub></em></strong>, <strong><em>i</em></strong>= 1 ÷ <strong><em>n</em></strong> và quyết định cách chọn của mình sao cho tổng giá trị phần thưởng mà Harry có thể đạt được càng nhỏ càng tốt. Về tổng giá trị phần thưởng của mình, Hermione không mảy may quan tâm!</p>\r\n",
        "\r\n",
        "<p style=\"text-align:justify\">Hãy xác định <strong><em>x</em></strong> – tổng nhỏ nhất giá trị phần thưởng mà Hermione có thể chọn để Harry không có cách chọn phần thưởng với tổng giá trị lớn hơn <strong><em>x</em></strong>.</p>\r\n",
        "\r\n",
        "<p style=\"text-align:justify\"><strong><em>Dữ liệu:</em></strong> Vào từ thiết bị nhập chuẩn:</p>\r\n",
        "\r\n",
        "<ul>\r\n",
        "\t<li style=\"text-align:justify\">Dòng đầu tiên chứa 2 số nguyên <strong><em>n</em></strong> và <strong><em>k</em></strong> (3 ≤ <strong><em>n</em></strong> ≤ 10<sup>5</sup>, 1 ≤ <strong><em>k</em></strong> ≤ n/3),</li>\r\n",
        "\t<li style=\"text-align:justify\">Dòng thứ 2 chứa <strong><em>n</em></strong> số nguyên <strong><em>a<sub>1</sub></em></strong>, <strong><em>a<sub>2</sub></em></strong>, . . ., <strong><em>a<sub>n</sub></em></strong> (1 ≤ <strong><em>a<sub>i</sub></em></strong> ≤ 10<sup>9</sup>, <strong><em>i</em></strong> = 1 ÷ <strong><em>n</em></strong>).</li>\r\n",
        "</ul>\r\n",
        "\r\n",
        "<p style=\"text-align:justify\"><strong><em>Kết quả:</em></strong> Đưa ra thiết bị xuất chuẩn số nguyên <strong><em>x</em></strong>.</p>\r\n",
        "\r\n",
        "<p style=\"text-align:justify\"><strong><em>Ví dụ:</em></strong></p>\r\n",
        "\r\n",
        "\r\n",
        "<p style=\"text-align:justify\">&nbsp;</p>\r\n"
      ]
    },
    {
      "cell_type": "markdown",
      "metadata": {
        "id": "pVvdp2xg_SGC"
      },
      "source": [
        "![image.png](data:image/png;base64,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)"
      ]
    },
    {
      "cell_type": "markdown",
      "metadata": {
        "id": "2alh6-4n_ZLT"
      },
      "source": [
        "##Tóm tắt bài toán"
      ]
    },
    {
      "cell_type": "markdown",
      "metadata": {
        "id": "Jm0fdsj3_cUx"
      },
      "source": [
        "Cho $N$ số nguyên dương $a_1, a_2, a_3, ..., a_n$ và 1 số nguyên $K$. Hãy tìm tổng đoạn con nhỏ nhất trong các đoạn con $a_l, a_{l+1}, ..., a_{l+k-1}$ sao cho $\\sum_{j = l}^{l+k-1} a_j$ là lớn nhất sau khi bỏ một đoạn con có độ dài $K$ và có tổng lớn nhất trước khi được bỏ."
      ]
    },
    {
      "cell_type": "markdown",
      "metadata": {
        "id": "5YN2mRLfBVni"
      },
      "source": [
        "##Nhận diện khuôn mẫu"
      ]
    },
    {
      "cell_type": "markdown",
      "metadata": {
        "id": "VvwIsMqqBZ7b"
      },
      "source": [
        "Với mỗi đoạn con sau khi được Hermoine chọn thì dãy số ban đầu được chia thành 2 phần, ta gọi 2 phần đó là phần bên trái và phần bên phải. Hai dãy còn lại sẽ được Harry chọn sao cho có tổng là **lớn nhất**.\r\n",
        "\r\n",
        "Ta cần tìm cho Hermoine giá trị phần thưởng nhỏ nhất mà Harry chọn trong tất cả các trường hợp."
      ]
    },
    {
      "cell_type": "markdown",
      "metadata": {
        "id": "KnxkiL-DCFrG"
      },
      "source": [
        "### Cách ngây thơ: "
      ]
    },
    {
      "cell_type": "markdown",
      "metadata": {
        "id": "iF0JsY1DCOmb"
      },
      "source": [
        "Với mỗi $i$, ta sẽ cho Hermoine chọn phần thưởng từ đoạn $[i, i + k -1]$. Sau đó, ta chỉ cần tìm giá trị lớn nhất trong 2 đoạn còn lại $[1, i - 1]$ và $[i + k, n]$. Cuối cùng là tìm giá trị nhỏ nhất trong các giá trị phần thưởng mà Harry chọn. "
      ]
    },
    {
      "cell_type": "markdown",
      "metadata": {
        "id": "Opj6UyjsC5py"
      },
      "source": [
        "Với cách tiếp cận này thì ta sẽ dễ dàng cài đặt với độ phức tạp là $O(n^2)$"
      ]
    },
    {
      "cell_type": "markdown",
      "metadata": {
        "id": "RhWXmR3KDB7y"
      },
      "source": [
        "### Tối ưu: "
      ]
    },
    {
      "cell_type": "markdown",
      "metadata": {
        "id": "ZSsNEQCIDEns"
      },
      "source": [
        "Để tối ưu hóa độ phức tạp thì ta sẽ có hướng tiếp cận như sau: \r\n",
        "+ Tối ưu hóa các bước tính giá trị lớn nhất của 2 đoạn $[1, i-1]$ và $[i + k , n]$ từ $O(n)$ còn $O(1)$"
      ]
    },
    {
      "cell_type": "markdown",
      "metadata": {
        "id": "nGXzDSdODfJ5"
      },
      "source": [
        "Để làm được điều này ta áp dụng phương pháp **Sum prefix** và **Sum suffix** và tính giá trị maximum từ $[1 -> i]$ cho **Sum prefix** và $[i, n]$ cho **Sum suffix**.\r\n",
        "\r\n",
        "Tiếp theo, với mỗi truy vấn $i$, ta chỉ cần tính toán giá trị lớn nhất từ 2 mảng **prefix** và **suffix** đã được tạo trước.\r\n",
        "\r\n",
        "Cuối cùng là chọn ra giá trị min của từng truy vấn.\r\n",
        "\r\n",
        "Độ phức tạp được tối ưu là $O(n)$."
      ]
    },
    {
      "cell_type": "markdown",
      "metadata": {
        "id": "pbFQv8_-EIiX"
      },
      "source": [
        "###Thiết kế thuật toán"
      ]
    },
    {
      "cell_type": "markdown",
      "metadata": {
        "id": "r--UKERyEKTz"
      },
      "source": [
        "Input $n, k$\r\n",
        "\r\n",
        "Input array $a$\r\n",
        "\r\n",
        "Calculate tổng tiền tố $s$: $s[i] = s[i-1] + a[i]$\r\n",
        "\r\n",
        "Calculate maximum prefix $pre$: $pre[i] = max(pre[i-1], s[i] - s[i - k])$\r\n",
        "\r\n",
        "Calculate maximum suffix $suf$: $suf[i] = max(suf[i+1], s[i + k - 1] - s[i - 1])$\r\n",
        "\r\n",
        "$answer$ = $+\\infty$\r\n",
        "\r\n",
        "For $i$ from $1$ to $n$:\r\n",
        "\r\n",
        "> $Harry_solution =max(f[i-1], g[i + k])$\r\n",
        "\r\n",
        "> $answer = min(answer, Harry_solution)$\r\n",
        "\r\n",
        "output is $answer$"
      ]
    },
    {
      "cell_type": "markdown",
      "metadata": {
        "id": "Rqdvex6JFf4Q"
      },
      "source": [
        "##Source code"
      ]
    },
    {
      "cell_type": "code",
      "metadata": {
        "id": "JaXL8C2Z3uxk",
        "colab": {
          "base_uri": "https://localhost:8080/"
        },
        "outputId": "32fc3d87-12d5-4dae-c1b4-8555ca6caab2"
      },
      "source": [
        "n , k = map(int, input().strip().split())\r\n",
        "arr = [0] + list(map(int, input().strip().split()))\r\n",
        "for i in range(1, len(arr)):\r\n",
        "    arr[i] += arr[i-1]\r\n",
        "prefix = [0] * (n + 1)\r\n",
        "suffix = [0] * (n + 1)\r\n",
        "for i in range(k, len(arr)):\r\n",
        "    prefix[i] = max(prefix[i-1], arr[i] - arr[i-k])\r\n",
        "suffix[len(arr) - k] = arr[n] - arr[n-k]\r\n",
        "\r\n",
        "for i in range(len(arr) - k - 1, 0, -1):\r\n",
        "    #print(i)\r\n",
        "    suffix[i] = max(suffix[i+1], arr[i + k - 1] - arr[i - 1])\r\n",
        "#print(prefix)\r\n",
        "#print(suffix)\r\n",
        "result = int(1e18)\r\n",
        "for i in range(k, len(arr)):\r\n",
        "    pre = i - k\r\n",
        "    suf = i + 1\r\n",
        "    maxharray = 0\r\n",
        "    if (pre >= k):\r\n",
        "        maxharray = max(maxharray, prefix[pre])\r\n",
        "    if (suf <= n - k + 1):\r\n",
        "        maxharray = max(maxharray, suffix[suf])\r\n",
        "    #print(test)\r\n",
        "    result = min(result, maxharray)\r\n",
        "    #print(i, maxharray)\r\n",
        "print(result)\r\n",
        "    \r\n"
      ],
      "execution_count": 1,
      "outputs": [
        {
          "output_type": "stream",
          "text": [
            "7 2\n",
            "1 2 3 7 3 2 1\n",
            "5\n"
          ],
          "name": "stdout"
        }
      ]
    },
    {
      "cell_type": "markdown",
      "metadata": {
        "id": "JaoIezRIFkE4"
      },
      "source": [
        "##Submit wecode"
      ]
    },
    {
      "cell_type": "markdown",
      "metadata": {
        "id": "k-tvrb9LFmDf"
      },
      "source": [
        "![image.png](data:image/png;base64,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)"
      ]
    }
  ]
}