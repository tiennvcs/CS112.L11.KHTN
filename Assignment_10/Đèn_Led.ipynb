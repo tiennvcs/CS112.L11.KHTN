{
  "nbformat": 4,
  "nbformat_minor": 0,
  "metadata": {
    "colab": {
      "name": "Đèn Led.ipynb",
      "provenance": [],
      "collapsed_sections": [],
      "include_colab_link": true
    },
    "kernelspec": {
      "name": "python3",
      "display_name": "Python 3"
    }
  },
  "cells": [
    {
      "cell_type": "markdown",
      "metadata": {
        "id": "view-in-github",
        "colab_type": "text"
      },
      "source": [
        "<a href=\"https://colab.research.google.com/github/tiennvuit/CS112.L11.KHTN/blob/master/Assignment_10/%C4%90%C3%A8n_Led.ipynb\" target=\"_parent\"><img src=\"https://colab.research.google.com/assets/colab-badge.svg\" alt=\"Open In Colab\"/></a>"
      ]
    },
    {
      "cell_type": "markdown",
      "metadata": {
        "id": "B3wtC-BOmvEG"
      },
      "source": [
        "<h1><center>BÀI TẬP TUẦN 10</center></h1>\r\n"
      ]
    },
    {
      "cell_type": "markdown",
      "metadata": {
        "id": "KzntM--4vl5L"
      },
      "source": [
        "# Thông tin nhóm:\n",
        "\n",
        "1. Trần Trung Anh   - 18520473\n",
        "2. Nguyễn Phú Quốc  - 18520343\n",
        "3. Nguyễn Văn Tiến  - 18521489"
      ]
    },
    {
      "cell_type": "markdown",
      "metadata": {
        "id": "NFTfs_Rzimvn"
      },
      "source": [
        "# Đèn LED\n",
        "---"
      ]
    },
    {
      "cell_type": "markdown",
      "metadata": {
        "id": "njqIiJcnisTe"
      },
      "source": [
        "##Đề bài\n",
        "---"
      ]
    },
    {
      "cell_type": "markdown",
      "metadata": {
        "id": "rzn8TaUOwJPJ"
      },
      "source": [
        "> Alice vừa hoàn thành một hợp đồng lắp bảng hiển thị số bằng đèn LED. Mỗi chữ số được hiển thị trong một khung chữ nhật với 7 ống đèn LED. Bằng cách bật các ống đèn LED thích hợp ta có thể hiển thị chữ số bất kỳ. Số đèn sáng càng nhiều thì việc hiển thị chữ số đó càng tốn năng lượng. Ví dụ, hiển thị chữ số 9 sẽ tốn năng lượng hơn hiển thị chữ số 7.\n",
        "\n",
        "> Sau khi bàn giao sản phẩm trong tay Alice còn thừa lại một số khá nhiều các khung hiển thị số và một cục pin nguồn. Dung lượng pin cho phép bật sáng ***n*** ống đèn LED. Alice muốn dùng pin bật đúng ***n*** ống đèn để hiển thị một số và số hiển thị được phải có tổng chữ số là lớn nhất.\n",
        "\n",
        "Hãy xác định tổng lớn nhất của các chữ số của số có thể bật sáng.\n",
        "\n",
        "**Dữ liệu:** \n",
        "\n",
        "> Vào từ thiết bị nhập chuẩn gồm một dòng chứa số nguyên ***n*** (2 ≤ ***n*** ≤ $10^6$). \n",
        "\n",
        "**Kết quả:** \n",
        "\n",
        "> Đưa ra thiết bị xuất chuẩn một số nguyên – tổng lớn nhất đạt được.\n",
        "\n",
        "**Ví dụ**:\n",
        "\n",
        " - Input: 7\n",
        " - Output: 10"
      ]
    },
    {
      "cell_type": "markdown",
      "metadata": {
        "id": "ClWpUFtWi0Iq"
      },
      "source": [
        "##Tóm tắt bài toán\n",
        "---"
      ]
    },
    {
      "cell_type": "markdown",
      "metadata": {
        "id": "1cq9JuERxIiE"
      },
      "source": [
        "Xác định tổng lớn nhất của các số được xếp từ **n** que diêm cho trước."
      ]
    },
    {
      "cell_type": "markdown",
      "metadata": {
        "id": "Si_Zb1mejE9Q"
      },
      "source": [
        "##Nhận diện khuôn mẫu\n",
        "---"
      ]
    },
    {
      "cell_type": "markdown",
      "metadata": {
        "id": "OM1SdsK3xmd_"
      },
      "source": [
        "Với các trường hợp ***n*** nhỏ, ta có các kết quả sau:\n",
        "\\begin{array}{|c|c|}\n",
        "Input&Output\\\\ \\hline\n",
        "2 & 1 \\\\\n",
        "3 & 7 \\\\\n",
        "4 & 4 \\\\\n",
        "5 & 8 \\\\\n",
        "6 & 14 \\\\\n",
        "7 & 11 \\\\\n",
        "8 & 15 \\\\\n",
        "9 & 21 \n",
        "\\end{array}\n",
        "\n",
        "Nhận thấy chỉ với 3 que diêm ta được 1 số 7. Vậy đểđể đạt được tổng là lớn nhất thì ta nên tập trung để tạo thành nhiều số 7 nhất có thể."
      ]
    },
    {
      "cell_type": "markdown",
      "metadata": {
        "id": "AMvKjzn_jpAT"
      },
      "source": [
        "##Thiết kế thuật toán\n",
        "---"
      ]
    },
    {
      "cell_type": "markdown",
      "metadata": {
        "id": "pV8hLbceoCpY"
      },
      "source": [
        "```\r\n",
        "function solve(n:integer): integer\r\n",
        "  a <- n mod 3\r\n",
        "  if a == 1:\r\n",
        "    res <- 7 * (n div 3 - 1) + 4\r\n",
        "  else if a == 0:\r\n",
        "    res <- 7 * (n div 3)\r\n",
        "  else if a == 2:\r\n",
        "    res <- 7 * (n div 3) + 1\r\n",
        "  end if\r\n",
        "  return res\r\n",
        "```"
      ]
    },
    {
      "cell_type": "markdown",
      "metadata": {
        "id": "WbOIB3DbjtrX"
      },
      "source": [
        "##Cài đặt thuật toán\n",
        "---"
      ]
    },
    {
      "cell_type": "code",
      "metadata": {
        "colab": {
          "base_uri": "https://localhost:8080/"
        },
        "id": "-gXDhvmLwvJz",
        "outputId": "4b6ed2da-7976-44b6-bd1e-d510747788e2"
      },
      "source": [
        "n = int(input())\n",
        "mod = n%3\n",
        "if mod == 1:\n",
        "    print(7*(n//3 - 1) + 4)\n",
        "elif mod == 0:\n",
        "    print(7*(n//3))\n",
        "elif mod == 2:\n",
        "    print(7*(n//3) +  1)"
      ],
      "execution_count": null,
      "outputs": [
        {
          "output_type": "stream",
          "text": [
            "7\n",
            "11\n"
          ],
          "name": "stdout"
        }
      ]
    },
    {
      "cell_type": "markdown",
      "metadata": {
        "id": "Da6s86y7pNm3"
      },
      "source": [
        "##Đánh giá thuật toán\r\n",
        "---"
      ]
    },
    {
      "cell_type": "markdown",
      "metadata": {
        "id": "3h8vBSFMpRIV"
      },
      "source": [
        "Độ phức tạp thời gian $O(1)$"
      ]
    },
    {
      "cell_type": "markdown",
      "metadata": {
        "id": "BDnhk0lgjzr5"
      },
      "source": [
        "##Submit Wecode\n",
        "---"
      ]
    },
    {
      "cell_type": "markdown",
      "metadata": {
        "id": "T83iw3ZGqVpQ"
      },
      "source": [
        "![led.PNG](data:image/png;base64,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)"
      ]
    }
  ]
}